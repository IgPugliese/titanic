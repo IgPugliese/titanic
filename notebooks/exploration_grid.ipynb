{
 "cells": [
  {
   "cell_type": "code",
   "execution_count": 1,
   "metadata": {},
   "outputs": [],
   "source": [
    "import sys\n",
    "from pathlib import Path\n",
    "project_root = Path().resolve().parent\n",
    "sys.path.append(str(project_root))\n",
    "\n",
    "import pandas as pd\n",
    "import numpy as np\n",
    "import re\n",
    "import sklearn as skt\n",
    "from sklearn.model_selection import train_test_split, cross_val_score, StratifiedKFold\n",
    "from sklearn.linear_model import LogisticRegression\n",
    "from sklearn.pipeline import Pipeline\n",
    "from xgboost import XGBRegressor, XGBClassifier\n",
    "from sklearn.preprocessing import FunctionTransformer\n",
    "from sklearn.base import BaseEstimator, ClassifierMixin\n",
    "from sklearn.base import clone\n",
    "from sklearn.model_selection import GridSearchCV\n",
    "from noise_remover import NoiseRemover\n",
    "from titanic_preprocessor import TitanicPreprocessor\n",
    "from sklearn.model_selection import PredefinedSplit, GridSearchCV\n",
    "from xgboost.callback import EarlyStopping\n",
    "\n",
    "from utils import load_config, load_datasets\n",
    "\n",
    "load_config()\n",
    "dataset, dt = load_datasets()\n",
    "\n",
    "model= XGBClassifier(\n",
    "    objective=\"binary:logistic\",\n",
    "    eval_metric=\"logloss\",       # modela conteos\n",
    "    tree_method=\"hist\",         # rápido y eficiente en CPU\n",
    "    n_estimators=5000,\n",
    "    learning_rate=0.1,\n",
    "    callbacks= [EarlyStopping(rounds=50, save_best=True)],\n",
    "    max_depth=3,\n",
    "    enable_categorical=True,\n",
    "    verbosity=0\n",
    ")\n",
    "\n",
    "def generate_predefined_split(y, prep):\n",
    "    X_train, X_eval, y_train, y_eval = train_test_split(df, y, test_size=0.2, stratify=y)\n",
    "    X_train_preprocessed = prep.fit_transform(X_train, y_train)  \n",
    "    X_eval_preprocessed  = prep.transform(X_eval)   \n",
    "    X_preprocessed = pd.concat([X_train_preprocessed, X_eval_preprocessed], axis=0)\n",
    "    y_all   = pd.concat([y_train, y_eval], axis=0)\n",
    "    test_fold = np.r_[[-1]*len(X_train_preprocessed), [0]*len(X_eval_preprocessed)]\n",
    "    return X_preprocessed, X_eval_preprocessed, y_all, y_eval, test_fold\n"
   ]
  },
  {
   "cell_type": "code",
   "execution_count": null,
   "metadata": {},
   "outputs": [
    {
     "name": "stderr",
     "output_type": "stream",
     "text": [
      "c:\\Users\\kuroc\\OneDrive\\Escritorio\\deadly aliance\\titanic\\deadlyAliance\\Lib\\site-packages\\sklearn\\pipeline.py:61: FutureWarning: This Pipeline instance is not fitted yet. Call 'fit' with appropriate arguments before using other methods such as transform, predict, etc. This will raise an error in 1.8 instead of the current warning.\n",
      "  warnings.warn(\n"
     ]
    },
    {
     "name": "stdout",
     "output_type": "stream",
     "text": [
      "Starting grid search...\n",
      "Best params: {'colsample_bytree': 1.0, 'learning_rate': 0.2, 'max_depth': 12, 'subsample': 0.5}\n",
      "Best (hold-out) score: 0.8435754189944135\n",
      "Best n_estimators (ES): 665\n",
      "Starting grid search...\n"
     ]
    },
    {
     "name": "stderr",
     "output_type": "stream",
     "text": [
      "c:\\Users\\kuroc\\OneDrive\\Escritorio\\deadly aliance\\titanic\\deadlyAliance\\Lib\\site-packages\\sklearn\\pipeline.py:61: FutureWarning: This Pipeline instance is not fitted yet. Call 'fit' with appropriate arguments before using other methods such as transform, predict, etc. This will raise an error in 1.8 instead of the current warning.\n",
      "  warnings.warn(\n"
     ]
    },
    {
     "name": "stdout",
     "output_type": "stream",
     "text": [
      "Best params: {'colsample_bytree': 0.9, 'learning_rate': 0.8, 'max_depth': 7, 'subsample': 0.9}\n",
      "Best (hold-out) score: 0.8491620111731844\n",
      "Best n_estimators (ES): 277\n",
      "Starting grid search...\n"
     ]
    },
    {
     "name": "stderr",
     "output_type": "stream",
     "text": [
      "c:\\Users\\kuroc\\OneDrive\\Escritorio\\deadly aliance\\titanic\\deadlyAliance\\Lib\\site-packages\\sklearn\\pipeline.py:61: FutureWarning: This Pipeline instance is not fitted yet. Call 'fit' with appropriate arguments before using other methods such as transform, predict, etc. This will raise an error in 1.8 instead of the current warning.\n",
      "  warnings.warn(\n"
     ]
    },
    {
     "name": "stdout",
     "output_type": "stream",
     "text": [
      "Best params: {'colsample_bytree': 0.8, 'learning_rate': 0.01, 'max_depth': 5, 'subsample': 0.5}\n",
      "Best (hold-out) score: 0.8659217877094972\n",
      "Best n_estimators (ES): 3339\n",
      "Starting grid search...\n"
     ]
    },
    {
     "name": "stderr",
     "output_type": "stream",
     "text": [
      "c:\\Users\\kuroc\\OneDrive\\Escritorio\\deadly aliance\\titanic\\deadlyAliance\\Lib\\site-packages\\sklearn\\pipeline.py:61: FutureWarning: This Pipeline instance is not fitted yet. Call 'fit' with appropriate arguments before using other methods such as transform, predict, etc. This will raise an error in 1.8 instead of the current warning.\n",
      "  warnings.warn(\n"
     ]
    },
    {
     "name": "stdout",
     "output_type": "stream",
     "text": [
      "Best params: {'colsample_bytree': 0.3, 'learning_rate': 0.8, 'max_depth': 4, 'subsample': 0.8}\n",
      "Best (hold-out) score: 0.888268156424581\n",
      "Best n_estimators (ES): 257\n",
      "Starting grid search...\n"
     ]
    },
    {
     "name": "stderr",
     "output_type": "stream",
     "text": [
      "c:\\Users\\kuroc\\OneDrive\\Escritorio\\deadly aliance\\titanic\\deadlyAliance\\Lib\\site-packages\\sklearn\\pipeline.py:61: FutureWarning: This Pipeline instance is not fitted yet. Call 'fit' with appropriate arguments before using other methods such as transform, predict, etc. This will raise an error in 1.8 instead of the current warning.\n",
      "  warnings.warn(\n"
     ]
    },
    {
     "name": "stdout",
     "output_type": "stream",
     "text": [
      "Best params: {'colsample_bytree': 1.0, 'learning_rate': 0.1, 'max_depth': 7, 'subsample': 0.5}\n",
      "Best (hold-out) score: 0.8715083798882681\n",
      "Best n_estimators (ES): 783\n",
      "Starting grid search...\n"
     ]
    },
    {
     "name": "stderr",
     "output_type": "stream",
     "text": [
      "c:\\Users\\kuroc\\OneDrive\\Escritorio\\deadly aliance\\titanic\\deadlyAliance\\Lib\\site-packages\\sklearn\\pipeline.py:61: FutureWarning: This Pipeline instance is not fitted yet. Call 'fit' with appropriate arguments before using other methods such as transform, predict, etc. This will raise an error in 1.8 instead of the current warning.\n",
      "  warnings.warn(\n"
     ]
    },
    {
     "name": "stdout",
     "output_type": "stream",
     "text": [
      "Best params: {'colsample_bytree': 0.8, 'learning_rate': 0.8, 'max_depth': 7, 'subsample': 0.8}\n",
      "Best (hold-out) score: 0.8491620111731844\n",
      "Best n_estimators (ES): 486\n",
      "Starting grid search...\n"
     ]
    },
    {
     "name": "stderr",
     "output_type": "stream",
     "text": [
      "c:\\Users\\kuroc\\OneDrive\\Escritorio\\deadly aliance\\titanic\\deadlyAliance\\Lib\\site-packages\\sklearn\\pipeline.py:61: FutureWarning: This Pipeline instance is not fitted yet. Call 'fit' with appropriate arguments before using other methods such as transform, predict, etc. This will raise an error in 1.8 instead of the current warning.\n",
      "  warnings.warn(\n"
     ]
    },
    {
     "name": "stdout",
     "output_type": "stream",
     "text": [
      "Best params: {'colsample_bytree': 0.3, 'learning_rate': 0.2, 'max_depth': 5, 'subsample': 0.5}\n",
      "Best (hold-out) score: 0.8659217877094972\n",
      "Best n_estimators (ES): 306\n",
      "Starting grid search...\n"
     ]
    },
    {
     "name": "stderr",
     "output_type": "stream",
     "text": [
      "c:\\Users\\kuroc\\OneDrive\\Escritorio\\deadly aliance\\titanic\\deadlyAliance\\Lib\\site-packages\\sklearn\\pipeline.py:61: FutureWarning: This Pipeline instance is not fitted yet. Call 'fit' with appropriate arguments before using other methods such as transform, predict, etc. This will raise an error in 1.8 instead of the current warning.\n",
      "  warnings.warn(\n"
     ]
    },
    {
     "name": "stdout",
     "output_type": "stream",
     "text": [
      "Best params: {'colsample_bytree': 0.3, 'learning_rate': 0.008, 'max_depth': 3, 'subsample': 1.0}\n",
      "Best (hold-out) score: 0.888268156424581\n",
      "Best n_estimators (ES): 5000\n",
      "Starting grid search...\n"
     ]
    },
    {
     "name": "stderr",
     "output_type": "stream",
     "text": [
      "c:\\Users\\kuroc\\OneDrive\\Escritorio\\deadly aliance\\titanic\\deadlyAliance\\Lib\\site-packages\\sklearn\\pipeline.py:61: FutureWarning: This Pipeline instance is not fitted yet. Call 'fit' with appropriate arguments before using other methods such as transform, predict, etc. This will raise an error in 1.8 instead of the current warning.\n",
      "  warnings.warn(\n"
     ]
    },
    {
     "name": "stdout",
     "output_type": "stream",
     "text": [
      "Best params: {'colsample_bytree': 1.0, 'learning_rate': 0.2, 'max_depth': 4, 'subsample': 0.8}\n",
      "Best (hold-out) score: 0.8435754189944135\n",
      "Best n_estimators (ES): 1138\n",
      "Starting grid search...\n"
     ]
    },
    {
     "name": "stderr",
     "output_type": "stream",
     "text": [
      "c:\\Users\\kuroc\\OneDrive\\Escritorio\\deadly aliance\\titanic\\deadlyAliance\\Lib\\site-packages\\sklearn\\pipeline.py:61: FutureWarning: This Pipeline instance is not fitted yet. Call 'fit' with appropriate arguments before using other methods such as transform, predict, etc. This will raise an error in 1.8 instead of the current warning.\n",
      "  warnings.warn(\n"
     ]
    },
    {
     "name": "stdout",
     "output_type": "stream",
     "text": [
      "Best params: {'colsample_bytree': 1.0, 'learning_rate': 0.1, 'max_depth': 3, 'subsample': 1.0}\n",
      "Best (hold-out) score: 0.8547486033519553\n",
      "Best n_estimators (ES): 4876\n",
      "Starting grid search...\n"
     ]
    },
    {
     "name": "stderr",
     "output_type": "stream",
     "text": [
      "c:\\Users\\kuroc\\OneDrive\\Escritorio\\deadly aliance\\titanic\\deadlyAliance\\Lib\\site-packages\\sklearn\\pipeline.py:61: FutureWarning: This Pipeline instance is not fitted yet. Call 'fit' with appropriate arguments before using other methods such as transform, predict, etc. This will raise an error in 1.8 instead of the current warning.\n",
      "  warnings.warn(\n"
     ]
    },
    {
     "name": "stdout",
     "output_type": "stream",
     "text": [
      "Best params: {'colsample_bytree': 0.8, 'learning_rate': 0.1, 'max_depth': 15, 'subsample': 0.8}\n",
      "Best (hold-out) score: 0.8547486033519553\n",
      "Best n_estimators (ES): 1368\n",
      "Starting grid search...\n"
     ]
    },
    {
     "name": "stderr",
     "output_type": "stream",
     "text": [
      "c:\\Users\\kuroc\\OneDrive\\Escritorio\\deadly aliance\\titanic\\deadlyAliance\\Lib\\site-packages\\sklearn\\pipeline.py:61: FutureWarning: This Pipeline instance is not fitted yet. Call 'fit' with appropriate arguments before using other methods such as transform, predict, etc. This will raise an error in 1.8 instead of the current warning.\n",
      "  warnings.warn(\n"
     ]
    },
    {
     "name": "stdout",
     "output_type": "stream",
     "text": [
      "Best params: {'colsample_bytree': 1.0, 'learning_rate': 0.1, 'max_depth': 4, 'subsample': 0.5}\n",
      "Best (hold-out) score: 0.888268156424581\n",
      "Best n_estimators (ES): 655\n",
      "Starting grid search...\n"
     ]
    },
    {
     "name": "stderr",
     "output_type": "stream",
     "text": [
      "c:\\Users\\kuroc\\OneDrive\\Escritorio\\deadly aliance\\titanic\\deadlyAliance\\Lib\\site-packages\\sklearn\\pipeline.py:61: FutureWarning: This Pipeline instance is not fitted yet. Call 'fit' with appropriate arguments before using other methods such as transform, predict, etc. This will raise an error in 1.8 instead of the current warning.\n",
      "  warnings.warn(\n"
     ]
    },
    {
     "name": "stdout",
     "output_type": "stream",
     "text": [
      "Best params: {'colsample_bytree': 0.9, 'learning_rate': 0.8, 'max_depth': 9, 'subsample': 1.0}\n",
      "Best (hold-out) score: 0.8324022346368715\n",
      "Best n_estimators (ES): 1252\n",
      "Starting grid search...\n"
     ]
    },
    {
     "name": "stderr",
     "output_type": "stream",
     "text": [
      "c:\\Users\\kuroc\\OneDrive\\Escritorio\\deadly aliance\\titanic\\deadlyAliance\\Lib\\site-packages\\sklearn\\pipeline.py:61: FutureWarning: This Pipeline instance is not fitted yet. Call 'fit' with appropriate arguments before using other methods such as transform, predict, etc. This will raise an error in 1.8 instead of the current warning.\n",
      "  warnings.warn(\n"
     ]
    },
    {
     "name": "stdout",
     "output_type": "stream",
     "text": [
      "Best params: {'colsample_bytree': 0.8, 'learning_rate': 0.2, 'max_depth': 13, 'subsample': 0.9}\n",
      "Best (hold-out) score: 0.8268156424581006\n",
      "Best n_estimators (ES): 1098\n",
      "Starting grid search...\n"
     ]
    },
    {
     "name": "stderr",
     "output_type": "stream",
     "text": [
      "c:\\Users\\kuroc\\OneDrive\\Escritorio\\deadly aliance\\titanic\\deadlyAliance\\Lib\\site-packages\\sklearn\\pipeline.py:61: FutureWarning: This Pipeline instance is not fitted yet. Call 'fit' with appropriate arguments before using other methods such as transform, predict, etc. This will raise an error in 1.8 instead of the current warning.\n",
      "  warnings.warn(\n"
     ]
    },
    {
     "name": "stdout",
     "output_type": "stream",
     "text": [
      "Best params: {'colsample_bytree': 0.8, 'learning_rate': 0.1, 'max_depth': 7, 'subsample': 0.9}\n",
      "Best (hold-out) score: 0.8603351955307262\n",
      "Best n_estimators (ES): 1220\n",
      "Starting grid search...\n"
     ]
    },
    {
     "name": "stderr",
     "output_type": "stream",
     "text": [
      "c:\\Users\\kuroc\\OneDrive\\Escritorio\\deadly aliance\\titanic\\deadlyAliance\\Lib\\site-packages\\sklearn\\pipeline.py:61: FutureWarning: This Pipeline instance is not fitted yet. Call 'fit' with appropriate arguments before using other methods such as transform, predict, etc. This will raise an error in 1.8 instead of the current warning.\n",
      "  warnings.warn(\n"
     ]
    },
    {
     "name": "stdout",
     "output_type": "stream",
     "text": [
      "Best params: {'colsample_bytree': 0.8, 'learning_rate': 0.8, 'max_depth': 4, 'subsample': 0.5}\n",
      "Best (hold-out) score: 0.8603351955307262\n",
      "Best n_estimators (ES): 122\n",
      "Starting grid search...\n"
     ]
    },
    {
     "name": "stderr",
     "output_type": "stream",
     "text": [
      "c:\\Users\\kuroc\\OneDrive\\Escritorio\\deadly aliance\\titanic\\deadlyAliance\\Lib\\site-packages\\sklearn\\pipeline.py:61: FutureWarning: This Pipeline instance is not fitted yet. Call 'fit' with appropriate arguments before using other methods such as transform, predict, etc. This will raise an error in 1.8 instead of the current warning.\n",
      "  warnings.warn(\n"
     ]
    },
    {
     "name": "stdout",
     "output_type": "stream",
     "text": [
      "Best params: {'colsample_bytree': 0.8, 'learning_rate': 0.1, 'max_depth': 14, 'subsample': 0.5}\n",
      "Best (hold-out) score: 0.8547486033519553\n",
      "Best n_estimators (ES): 1025\n",
      "Starting grid search...\n"
     ]
    },
    {
     "name": "stderr",
     "output_type": "stream",
     "text": [
      "c:\\Users\\kuroc\\OneDrive\\Escritorio\\deadly aliance\\titanic\\deadlyAliance\\Lib\\site-packages\\sklearn\\pipeline.py:61: FutureWarning: This Pipeline instance is not fitted yet. Call 'fit' with appropriate arguments before using other methods such as transform, predict, etc. This will raise an error in 1.8 instead of the current warning.\n",
      "  warnings.warn(\n"
     ]
    },
    {
     "name": "stdout",
     "output_type": "stream",
     "text": [
      "Best params: {'colsample_bytree': 1.0, 'learning_rate': 0.1, 'max_depth': 15, 'subsample': 0.5}\n",
      "Best (hold-out) score: 0.8603351955307262\n",
      "Best n_estimators (ES): 731\n",
      "Starting grid search...\n"
     ]
    },
    {
     "name": "stderr",
     "output_type": "stream",
     "text": [
      "c:\\Users\\kuroc\\OneDrive\\Escritorio\\deadly aliance\\titanic\\deadlyAliance\\Lib\\site-packages\\sklearn\\pipeline.py:61: FutureWarning: This Pipeline instance is not fitted yet. Call 'fit' with appropriate arguments before using other methods such as transform, predict, etc. This will raise an error in 1.8 instead of the current warning.\n",
      "  warnings.warn(\n"
     ]
    },
    {
     "name": "stdout",
     "output_type": "stream",
     "text": [
      "Best params: {'colsample_bytree': 0.3, 'learning_rate': 0.8, 'max_depth': 14, 'subsample': 0.8}\n",
      "Best (hold-out) score: 0.88268156424581\n",
      "Best n_estimators (ES): 255\n",
      "Starting grid search...\n"
     ]
    },
    {
     "name": "stderr",
     "output_type": "stream",
     "text": [
      "c:\\Users\\kuroc\\OneDrive\\Escritorio\\deadly aliance\\titanic\\deadlyAliance\\Lib\\site-packages\\sklearn\\pipeline.py:61: FutureWarning: This Pipeline instance is not fitted yet. Call 'fit' with appropriate arguments before using other methods such as transform, predict, etc. This will raise an error in 1.8 instead of the current warning.\n",
      "  warnings.warn(\n"
     ]
    },
    {
     "name": "stdout",
     "output_type": "stream",
     "text": [
      "Best params: {'colsample_bytree': 1.0, 'learning_rate': 0.8, 'max_depth': 4, 'subsample': 0.8}\n",
      "Best (hold-out) score: 0.88268156424581\n",
      "Best n_estimators (ES): 531\n",
      "Starting grid search...\n"
     ]
    },
    {
     "name": "stderr",
     "output_type": "stream",
     "text": [
      "c:\\Users\\kuroc\\OneDrive\\Escritorio\\deadly aliance\\titanic\\deadlyAliance\\Lib\\site-packages\\sklearn\\pipeline.py:61: FutureWarning: This Pipeline instance is not fitted yet. Call 'fit' with appropriate arguments before using other methods such as transform, predict, etc. This will raise an error in 1.8 instead of the current warning.\n",
      "  warnings.warn(\n"
     ]
    },
    {
     "name": "stdout",
     "output_type": "stream",
     "text": [
      "Best params: {'colsample_bytree': 0.8, 'learning_rate': 0.8, 'max_depth': 12, 'subsample': 0.8}\n",
      "Best (hold-out) score: 0.8659217877094972\n",
      "Best n_estimators (ES): 200\n",
      "Starting grid search...\n"
     ]
    },
    {
     "name": "stderr",
     "output_type": "stream",
     "text": [
      "c:\\Users\\kuroc\\OneDrive\\Escritorio\\deadly aliance\\titanic\\deadlyAliance\\Lib\\site-packages\\sklearn\\pipeline.py:61: FutureWarning: This Pipeline instance is not fitted yet. Call 'fit' with appropriate arguments before using other methods such as transform, predict, etc. This will raise an error in 1.8 instead of the current warning.\n",
      "  warnings.warn(\n"
     ]
    },
    {
     "name": "stdout",
     "output_type": "stream",
     "text": [
      "Best params: {'colsample_bytree': 0.3, 'learning_rate': 0.8, 'max_depth': 7, 'subsample': 0.8}\n",
      "Best (hold-out) score: 0.8324022346368715\n",
      "Best n_estimators (ES): 480\n",
      "Starting grid search...\n"
     ]
    },
    {
     "name": "stderr",
     "output_type": "stream",
     "text": [
      "c:\\Users\\kuroc\\OneDrive\\Escritorio\\deadly aliance\\titanic\\deadlyAliance\\Lib\\site-packages\\sklearn\\pipeline.py:61: FutureWarning: This Pipeline instance is not fitted yet. Call 'fit' with appropriate arguments before using other methods such as transform, predict, etc. This will raise an error in 1.8 instead of the current warning.\n",
      "  warnings.warn(\n"
     ]
    },
    {
     "name": "stdout",
     "output_type": "stream",
     "text": [
      "Best params: {'colsample_bytree': 0.3, 'learning_rate': 0.2, 'max_depth': 5, 'subsample': 0.5}\n",
      "Best (hold-out) score: 0.8547486033519553\n",
      "Best n_estimators (ES): 431\n",
      "Starting grid search...\n"
     ]
    },
    {
     "name": "stderr",
     "output_type": "stream",
     "text": [
      "c:\\Users\\kuroc\\OneDrive\\Escritorio\\deadly aliance\\titanic\\deadlyAliance\\Lib\\site-packages\\sklearn\\pipeline.py:61: FutureWarning: This Pipeline instance is not fitted yet. Call 'fit' with appropriate arguments before using other methods such as transform, predict, etc. This will raise an error in 1.8 instead of the current warning.\n",
      "  warnings.warn(\n"
     ]
    },
    {
     "name": "stdout",
     "output_type": "stream",
     "text": [
      "Best params: {'colsample_bytree': 0.9, 'learning_rate': 0.8, 'max_depth': 4, 'subsample': 0.9}\n",
      "Best (hold-out) score: 0.8603351955307262\n",
      "Best n_estimators (ES): 389\n",
      "Starting grid search...\n"
     ]
    },
    {
     "name": "stderr",
     "output_type": "stream",
     "text": [
      "c:\\Users\\kuroc\\OneDrive\\Escritorio\\deadly aliance\\titanic\\deadlyAliance\\Lib\\site-packages\\sklearn\\pipeline.py:61: FutureWarning: This Pipeline instance is not fitted yet. Call 'fit' with appropriate arguments before using other methods such as transform, predict, etc. This will raise an error in 1.8 instead of the current warning.\n",
      "  warnings.warn(\n"
     ]
    },
    {
     "name": "stdout",
     "output_type": "stream",
     "text": [
      "Best params: {'colsample_bytree': 0.8, 'learning_rate': 0.8, 'max_depth': 7, 'subsample': 0.5}\n",
      "Best (hold-out) score: 0.8603351955307262\n",
      "Best n_estimators (ES): 352\n",
      "Starting grid search...\n"
     ]
    },
    {
     "name": "stderr",
     "output_type": "stream",
     "text": [
      "c:\\Users\\kuroc\\OneDrive\\Escritorio\\deadly aliance\\titanic\\deadlyAliance\\Lib\\site-packages\\sklearn\\pipeline.py:61: FutureWarning: This Pipeline instance is not fitted yet. Call 'fit' with appropriate arguments before using other methods such as transform, predict, etc. This will raise an error in 1.8 instead of the current warning.\n",
      "  warnings.warn(\n"
     ]
    },
    {
     "name": "stdout",
     "output_type": "stream",
     "text": [
      "Best params: {'colsample_bytree': 0.8, 'learning_rate': 0.8, 'max_depth': 3, 'subsample': 0.9}\n",
      "Best (hold-out) score: 0.8659217877094972\n",
      "Best n_estimators (ES): 499\n",
      "Starting grid search...\n"
     ]
    },
    {
     "name": "stderr",
     "output_type": "stream",
     "text": [
      "c:\\Users\\kuroc\\OneDrive\\Escritorio\\deadly aliance\\titanic\\deadlyAliance\\Lib\\site-packages\\sklearn\\pipeline.py:61: FutureWarning: This Pipeline instance is not fitted yet. Call 'fit' with appropriate arguments before using other methods such as transform, predict, etc. This will raise an error in 1.8 instead of the current warning.\n",
      "  warnings.warn(\n"
     ]
    },
    {
     "name": "stdout",
     "output_type": "stream",
     "text": [
      "Best params: {'colsample_bytree': 0.8, 'learning_rate': 0.8, 'max_depth': 4, 'subsample': 0.9}\n",
      "Best (hold-out) score: 0.8547486033519553\n",
      "Best n_estimators (ES): 426\n",
      "Starting grid search...\n"
     ]
    },
    {
     "name": "stderr",
     "output_type": "stream",
     "text": [
      "c:\\Users\\kuroc\\OneDrive\\Escritorio\\deadly aliance\\titanic\\deadlyAliance\\Lib\\site-packages\\sklearn\\pipeline.py:61: FutureWarning: This Pipeline instance is not fitted yet. Call 'fit' with appropriate arguments before using other methods such as transform, predict, etc. This will raise an error in 1.8 instead of the current warning.\n",
      "  warnings.warn(\n"
     ]
    },
    {
     "name": "stdout",
     "output_type": "stream",
     "text": [
      "Best params: {'colsample_bytree': 0.9, 'learning_rate': 0.1, 'max_depth': 7, 'subsample': 0.8}\n",
      "Best (hold-out) score: 0.7988826815642458\n",
      "Best n_estimators (ES): 1364\n",
      "Starting grid search...\n"
     ]
    },
    {
     "name": "stderr",
     "output_type": "stream",
     "text": [
      "c:\\Users\\kuroc\\OneDrive\\Escritorio\\deadly aliance\\titanic\\deadlyAliance\\Lib\\site-packages\\sklearn\\pipeline.py:61: FutureWarning: This Pipeline instance is not fitted yet. Call 'fit' with appropriate arguments before using other methods such as transform, predict, etc. This will raise an error in 1.8 instead of the current warning.\n",
      "  warnings.warn(\n"
     ]
    },
    {
     "name": "stdout",
     "output_type": "stream",
     "text": [
      "Best params: {'colsample_bytree': 0.8, 'learning_rate': 0.2, 'max_depth': 14, 'subsample': 0.8}\n",
      "Best (hold-out) score: 0.888268156424581\n",
      "Best n_estimators (ES): 532\n",
      "Starting grid search...\n"
     ]
    },
    {
     "name": "stderr",
     "output_type": "stream",
     "text": [
      "c:\\Users\\kuroc\\OneDrive\\Escritorio\\deadly aliance\\titanic\\deadlyAliance\\Lib\\site-packages\\sklearn\\pipeline.py:61: FutureWarning: This Pipeline instance is not fitted yet. Call 'fit' with appropriate arguments before using other methods such as transform, predict, etc. This will raise an error in 1.8 instead of the current warning.\n",
      "  warnings.warn(\n"
     ]
    },
    {
     "name": "stdout",
     "output_type": "stream",
     "text": [
      "Best params: {'colsample_bytree': 0.8, 'learning_rate': 0.1, 'max_depth': 12, 'subsample': 1.0}\n",
      "Best (hold-out) score: 0.8547486033519553\n",
      "Best n_estimators (ES): 2738\n",
      "Starting grid search...\n"
     ]
    },
    {
     "name": "stderr",
     "output_type": "stream",
     "text": [
      "c:\\Users\\kuroc\\OneDrive\\Escritorio\\deadly aliance\\titanic\\deadlyAliance\\Lib\\site-packages\\sklearn\\pipeline.py:61: FutureWarning: This Pipeline instance is not fitted yet. Call 'fit' with appropriate arguments before using other methods such as transform, predict, etc. This will raise an error in 1.8 instead of the current warning.\n",
      "  warnings.warn(\n"
     ]
    },
    {
     "name": "stdout",
     "output_type": "stream",
     "text": [
      "Best params: {'colsample_bytree': 1.0, 'learning_rate': 0.8, 'max_depth': 5, 'subsample': 1.0}\n",
      "Best (hold-out) score: 0.8547486033519553\n",
      "Best n_estimators (ES): 1393\n",
      "Starting grid search...\n"
     ]
    },
    {
     "name": "stderr",
     "output_type": "stream",
     "text": [
      "c:\\Users\\kuroc\\OneDrive\\Escritorio\\deadly aliance\\titanic\\deadlyAliance\\Lib\\site-packages\\sklearn\\pipeline.py:61: FutureWarning: This Pipeline instance is not fitted yet. Call 'fit' with appropriate arguments before using other methods such as transform, predict, etc. This will raise an error in 1.8 instead of the current warning.\n",
      "  warnings.warn(\n"
     ]
    },
    {
     "name": "stdout",
     "output_type": "stream",
     "text": [
      "Best params: {'colsample_bytree': 1.0, 'learning_rate': 0.8, 'max_depth': 3, 'subsample': 1.0}\n",
      "Best (hold-out) score: 0.8938547486033519\n",
      "Best n_estimators (ES): 1886\n",
      "Starting grid search...\n"
     ]
    },
    {
     "name": "stderr",
     "output_type": "stream",
     "text": [
      "c:\\Users\\kuroc\\OneDrive\\Escritorio\\deadly aliance\\titanic\\deadlyAliance\\Lib\\site-packages\\sklearn\\pipeline.py:61: FutureWarning: This Pipeline instance is not fitted yet. Call 'fit' with appropriate arguments before using other methods such as transform, predict, etc. This will raise an error in 1.8 instead of the current warning.\n",
      "  warnings.warn(\n"
     ]
    },
    {
     "name": "stdout",
     "output_type": "stream",
     "text": [
      "Best params: {'colsample_bytree': 0.3, 'learning_rate': 0.8, 'max_depth': 3, 'subsample': 0.8}\n",
      "Best (hold-out) score: 0.8435754189944135\n",
      "Best n_estimators (ES): 535\n",
      "Starting grid search...\n"
     ]
    },
    {
     "name": "stderr",
     "output_type": "stream",
     "text": [
      "c:\\Users\\kuroc\\OneDrive\\Escritorio\\deadly aliance\\titanic\\deadlyAliance\\Lib\\site-packages\\sklearn\\pipeline.py:61: FutureWarning: This Pipeline instance is not fitted yet. Call 'fit' with appropriate arguments before using other methods such as transform, predict, etc. This will raise an error in 1.8 instead of the current warning.\n",
      "  warnings.warn(\n"
     ]
    },
    {
     "name": "stdout",
     "output_type": "stream",
     "text": [
      "Best params: {'colsample_bytree': 0.8, 'learning_rate': 0.8, 'max_depth': 4, 'subsample': 0.9}\n",
      "Best (hold-out) score: 0.8268156424581006\n",
      "Best n_estimators (ES): 446\n",
      "Starting grid search...\n"
     ]
    },
    {
     "name": "stderr",
     "output_type": "stream",
     "text": [
      "c:\\Users\\kuroc\\OneDrive\\Escritorio\\deadly aliance\\titanic\\deadlyAliance\\Lib\\site-packages\\sklearn\\pipeline.py:61: FutureWarning: This Pipeline instance is not fitted yet. Call 'fit' with appropriate arguments before using other methods such as transform, predict, etc. This will raise an error in 1.8 instead of the current warning.\n",
      "  warnings.warn(\n"
     ]
    },
    {
     "name": "stdout",
     "output_type": "stream",
     "text": [
      "Best params: {'colsample_bytree': 1.0, 'learning_rate': 0.008, 'max_depth': 3, 'subsample': 0.5}\n",
      "Best (hold-out) score: 0.8659217877094972\n",
      "Best n_estimators (ES): 4995\n",
      "Starting grid search...\n"
     ]
    },
    {
     "name": "stderr",
     "output_type": "stream",
     "text": [
      "c:\\Users\\kuroc\\OneDrive\\Escritorio\\deadly aliance\\titanic\\deadlyAliance\\Lib\\site-packages\\sklearn\\pipeline.py:61: FutureWarning: This Pipeline instance is not fitted yet. Call 'fit' with appropriate arguments before using other methods such as transform, predict, etc. This will raise an error in 1.8 instead of the current warning.\n",
      "  warnings.warn(\n"
     ]
    },
    {
     "name": "stdout",
     "output_type": "stream",
     "text": [
      "Best params: {'colsample_bytree': 0.9, 'learning_rate': 0.8, 'max_depth': 3, 'subsample': 0.9}\n",
      "Best (hold-out) score: 0.8603351955307262\n",
      "Best n_estimators (ES): 519\n",
      "Starting grid search...\n"
     ]
    },
    {
     "name": "stderr",
     "output_type": "stream",
     "text": [
      "c:\\Users\\kuroc\\OneDrive\\Escritorio\\deadly aliance\\titanic\\deadlyAliance\\Lib\\site-packages\\sklearn\\pipeline.py:61: FutureWarning: This Pipeline instance is not fitted yet. Call 'fit' with appropriate arguments before using other methods such as transform, predict, etc. This will raise an error in 1.8 instead of the current warning.\n",
      "  warnings.warn(\n"
     ]
    },
    {
     "name": "stdout",
     "output_type": "stream",
     "text": [
      "Best params: {'colsample_bytree': 0.3, 'learning_rate': 0.8, 'max_depth': 12, 'subsample': 0.8}\n",
      "Best (hold-out) score: 0.888268156424581\n",
      "Best n_estimators (ES): 245\n",
      "Starting grid search...\n"
     ]
    },
    {
     "name": "stderr",
     "output_type": "stream",
     "text": [
      "c:\\Users\\kuroc\\OneDrive\\Escritorio\\deadly aliance\\titanic\\deadlyAliance\\Lib\\site-packages\\sklearn\\pipeline.py:61: FutureWarning: This Pipeline instance is not fitted yet. Call 'fit' with appropriate arguments before using other methods such as transform, predict, etc. This will raise an error in 1.8 instead of the current warning.\n",
      "  warnings.warn(\n"
     ]
    },
    {
     "name": "stdout",
     "output_type": "stream",
     "text": [
      "Best params: {'colsample_bytree': 1.0, 'learning_rate': 0.008, 'max_depth': 4, 'subsample': 1.0}\n",
      "Best (hold-out) score: 0.8603351955307262\n",
      "Best n_estimators (ES): 5000\n",
      "Starting grid search...\n"
     ]
    },
    {
     "name": "stderr",
     "output_type": "stream",
     "text": [
      "c:\\Users\\kuroc\\OneDrive\\Escritorio\\deadly aliance\\titanic\\deadlyAliance\\Lib\\site-packages\\sklearn\\pipeline.py:61: FutureWarning: This Pipeline instance is not fitted yet. Call 'fit' with appropriate arguments before using other methods such as transform, predict, etc. This will raise an error in 1.8 instead of the current warning.\n",
      "  warnings.warn(\n"
     ]
    },
    {
     "name": "stdout",
     "output_type": "stream",
     "text": [
      "Best params: {'colsample_bytree': 0.8, 'learning_rate': 0.8, 'max_depth': 12, 'subsample': 0.8}\n",
      "Best (hold-out) score: 0.888268156424581\n",
      "Best n_estimators (ES): 292\n",
      "Starting grid search...\n"
     ]
    },
    {
     "name": "stderr",
     "output_type": "stream",
     "text": [
      "c:\\Users\\kuroc\\OneDrive\\Escritorio\\deadly aliance\\titanic\\deadlyAliance\\Lib\\site-packages\\sklearn\\pipeline.py:61: FutureWarning: This Pipeline instance is not fitted yet. Call 'fit' with appropriate arguments before using other methods such as transform, predict, etc. This will raise an error in 1.8 instead of the current warning.\n",
      "  warnings.warn(\n"
     ]
    },
    {
     "name": "stdout",
     "output_type": "stream",
     "text": [
      "Best params: {'colsample_bytree': 0.8, 'learning_rate': 0.2, 'max_depth': 14, 'subsample': 0.8}\n",
      "Best (hold-out) score: 0.88268156424581\n",
      "Best n_estimators (ES): 502\n",
      "Starting grid search...\n"
     ]
    },
    {
     "name": "stderr",
     "output_type": "stream",
     "text": [
      "c:\\Users\\kuroc\\OneDrive\\Escritorio\\deadly aliance\\titanic\\deadlyAliance\\Lib\\site-packages\\sklearn\\pipeline.py:61: FutureWarning: This Pipeline instance is not fitted yet. Call 'fit' with appropriate arguments before using other methods such as transform, predict, etc. This will raise an error in 1.8 instead of the current warning.\n",
      "  warnings.warn(\n"
     ]
    },
    {
     "name": "stdout",
     "output_type": "stream",
     "text": [
      "Best params: {'colsample_bytree': 0.9, 'learning_rate': 0.2, 'max_depth': 3, 'subsample': 0.5}\n",
      "Best (hold-out) score: 0.88268156424581\n",
      "Best n_estimators (ES): 774\n",
      "Starting grid search...\n"
     ]
    },
    {
     "name": "stderr",
     "output_type": "stream",
     "text": [
      "c:\\Users\\kuroc\\OneDrive\\Escritorio\\deadly aliance\\titanic\\deadlyAliance\\Lib\\site-packages\\sklearn\\pipeline.py:61: FutureWarning: This Pipeline instance is not fitted yet. Call 'fit' with appropriate arguments before using other methods such as transform, predict, etc. This will raise an error in 1.8 instead of the current warning.\n",
      "  warnings.warn(\n"
     ]
    },
    {
     "name": "stdout",
     "output_type": "stream",
     "text": [
      "Best params: {'colsample_bytree': 0.8, 'learning_rate': 0.2, 'max_depth': 7, 'subsample': 0.8}\n",
      "Best (hold-out) score: 0.8715083798882681\n",
      "Best n_estimators (ES): 701\n",
      "Starting grid search...\n"
     ]
    },
    {
     "name": "stderr",
     "output_type": "stream",
     "text": [
      "c:\\Users\\kuroc\\OneDrive\\Escritorio\\deadly aliance\\titanic\\deadlyAliance\\Lib\\site-packages\\sklearn\\pipeline.py:61: FutureWarning: This Pipeline instance is not fitted yet. Call 'fit' with appropriate arguments before using other methods such as transform, predict, etc. This will raise an error in 1.8 instead of the current warning.\n",
      "  warnings.warn(\n"
     ]
    },
    {
     "name": "stdout",
     "output_type": "stream",
     "text": [
      "Best params: {'colsample_bytree': 1.0, 'learning_rate': 0.8, 'max_depth': 5, 'subsample': 0.9}\n",
      "Best (hold-out) score: 0.8435754189944135\n",
      "Best n_estimators (ES): 294\n",
      "Starting grid search...\n"
     ]
    },
    {
     "name": "stderr",
     "output_type": "stream",
     "text": [
      "c:\\Users\\kuroc\\OneDrive\\Escritorio\\deadly aliance\\titanic\\deadlyAliance\\Lib\\site-packages\\sklearn\\pipeline.py:61: FutureWarning: This Pipeline instance is not fitted yet. Call 'fit' with appropriate arguments before using other methods such as transform, predict, etc. This will raise an error in 1.8 instead of the current warning.\n",
      "  warnings.warn(\n"
     ]
    },
    {
     "name": "stdout",
     "output_type": "stream",
     "text": [
      "Best params: {'colsample_bytree': 0.8, 'learning_rate': 0.8, 'max_depth': 4, 'subsample': 0.9}\n",
      "Best (hold-out) score: 0.8435754189944135\n",
      "Best n_estimators (ES): 766\n",
      "Starting grid search...\n"
     ]
    },
    {
     "name": "stderr",
     "output_type": "stream",
     "text": [
      "c:\\Users\\kuroc\\OneDrive\\Escritorio\\deadly aliance\\titanic\\deadlyAliance\\Lib\\site-packages\\sklearn\\pipeline.py:61: FutureWarning: This Pipeline instance is not fitted yet. Call 'fit' with appropriate arguments before using other methods such as transform, predict, etc. This will raise an error in 1.8 instead of the current warning.\n",
      "  warnings.warn(\n"
     ]
    },
    {
     "name": "stdout",
     "output_type": "stream",
     "text": [
      "Best params: {'colsample_bytree': 1.0, 'learning_rate': 0.2, 'max_depth': 7, 'subsample': 0.5}\n",
      "Best (hold-out) score: 0.8659217877094972\n",
      "Best n_estimators (ES): 642\n",
      "Starting grid search...\n"
     ]
    },
    {
     "name": "stderr",
     "output_type": "stream",
     "text": [
      "c:\\Users\\kuroc\\OneDrive\\Escritorio\\deadly aliance\\titanic\\deadlyAliance\\Lib\\site-packages\\sklearn\\pipeline.py:61: FutureWarning: This Pipeline instance is not fitted yet. Call 'fit' with appropriate arguments before using other methods such as transform, predict, etc. This will raise an error in 1.8 instead of the current warning.\n",
      "  warnings.warn(\n"
     ]
    },
    {
     "name": "stdout",
     "output_type": "stream",
     "text": [
      "Best params: {'colsample_bytree': 0.3, 'learning_rate': 0.8, 'max_depth': 4, 'subsample': 0.9}\n",
      "Best (hold-out) score: 0.8603351955307262\n",
      "Best n_estimators (ES): 202\n",
      "Starting grid search...\n"
     ]
    },
    {
     "name": "stderr",
     "output_type": "stream",
     "text": [
      "c:\\Users\\kuroc\\OneDrive\\Escritorio\\deadly aliance\\titanic\\deadlyAliance\\Lib\\site-packages\\sklearn\\pipeline.py:61: FutureWarning: This Pipeline instance is not fitted yet. Call 'fit' with appropriate arguments before using other methods such as transform, predict, etc. This will raise an error in 1.8 instead of the current warning.\n",
      "  warnings.warn(\n"
     ]
    },
    {
     "name": "stdout",
     "output_type": "stream",
     "text": [
      "Best params: {'colsample_bytree': 1.0, 'learning_rate': 0.2, 'max_depth': 4, 'subsample': 0.8}\n",
      "Best (hold-out) score: 0.8715083798882681\n",
      "Best n_estimators (ES): 1114\n",
      "Starting grid search...\n"
     ]
    },
    {
     "name": "stderr",
     "output_type": "stream",
     "text": [
      "c:\\Users\\kuroc\\OneDrive\\Escritorio\\deadly aliance\\titanic\\deadlyAliance\\Lib\\site-packages\\sklearn\\pipeline.py:61: FutureWarning: This Pipeline instance is not fitted yet. Call 'fit' with appropriate arguments before using other methods such as transform, predict, etc. This will raise an error in 1.8 instead of the current warning.\n",
      "  warnings.warn(\n"
     ]
    },
    {
     "name": "stdout",
     "output_type": "stream",
     "text": [
      "Best params: {'colsample_bytree': 0.8, 'learning_rate': 0.009, 'max_depth': 13, 'subsample': 1.0}\n",
      "Best (hold-out) score: 0.8603351955307262\n",
      "Best n_estimators (ES): 5000\n",
      "Starting grid search...\n"
     ]
    },
    {
     "name": "stderr",
     "output_type": "stream",
     "text": [
      "c:\\Users\\kuroc\\OneDrive\\Escritorio\\deadly aliance\\titanic\\deadlyAliance\\Lib\\site-packages\\sklearn\\pipeline.py:61: FutureWarning: This Pipeline instance is not fitted yet. Call 'fit' with appropriate arguments before using other methods such as transform, predict, etc. This will raise an error in 1.8 instead of the current warning.\n",
      "  warnings.warn(\n"
     ]
    },
    {
     "name": "stdout",
     "output_type": "stream",
     "text": [
      "Best params: {'colsample_bytree': 0.9, 'learning_rate': 0.8, 'max_depth': 3, 'subsample': 0.9}\n",
      "Best (hold-out) score: 0.8603351955307262\n",
      "Best n_estimators (ES): 633\n",
      "Starting grid search...\n"
     ]
    },
    {
     "name": "stderr",
     "output_type": "stream",
     "text": [
      "c:\\Users\\kuroc\\OneDrive\\Escritorio\\deadly aliance\\titanic\\deadlyAliance\\Lib\\site-packages\\sklearn\\pipeline.py:61: FutureWarning: This Pipeline instance is not fitted yet. Call 'fit' with appropriate arguments before using other methods such as transform, predict, etc. This will raise an error in 1.8 instead of the current warning.\n",
      "  warnings.warn(\n"
     ]
    },
    {
     "name": "stdout",
     "output_type": "stream",
     "text": [
      "Best params: {'colsample_bytree': 1.0, 'learning_rate': 0.8, 'max_depth': 7, 'subsample': 0.8}\n",
      "Best (hold-out) score: 0.8547486033519553\n",
      "Best n_estimators (ES): 152\n",
      "Starting grid search...\n"
     ]
    },
    {
     "name": "stderr",
     "output_type": "stream",
     "text": [
      "c:\\Users\\kuroc\\OneDrive\\Escritorio\\deadly aliance\\titanic\\deadlyAliance\\Lib\\site-packages\\sklearn\\pipeline.py:61: FutureWarning: This Pipeline instance is not fitted yet. Call 'fit' with appropriate arguments before using other methods such as transform, predict, etc. This will raise an error in 1.8 instead of the current warning.\n",
      "  warnings.warn(\n"
     ]
    },
    {
     "name": "stdout",
     "output_type": "stream",
     "text": [
      "Best params: {'colsample_bytree': 0.3, 'learning_rate': 0.8, 'max_depth': 13, 'subsample': 0.5}\n",
      "Best (hold-out) score: 0.88268156424581\n",
      "Best n_estimators (ES): 56\n",
      "Starting grid search...\n"
     ]
    },
    {
     "name": "stderr",
     "output_type": "stream",
     "text": [
      "c:\\Users\\kuroc\\OneDrive\\Escritorio\\deadly aliance\\titanic\\deadlyAliance\\Lib\\site-packages\\sklearn\\pipeline.py:61: FutureWarning: This Pipeline instance is not fitted yet. Call 'fit' with appropriate arguments before using other methods such as transform, predict, etc. This will raise an error in 1.8 instead of the current warning.\n",
      "  warnings.warn(\n"
     ]
    },
    {
     "name": "stdout",
     "output_type": "stream",
     "text": [
      "Best params: {'colsample_bytree': 0.8, 'learning_rate': 0.2, 'max_depth': 5, 'subsample': 0.5}\n",
      "Best (hold-out) score: 0.8770949720670391\n",
      "Best n_estimators (ES): 680\n",
      "Starting grid search...\n"
     ]
    },
    {
     "name": "stderr",
     "output_type": "stream",
     "text": [
      "c:\\Users\\kuroc\\OneDrive\\Escritorio\\deadly aliance\\titanic\\deadlyAliance\\Lib\\site-packages\\sklearn\\pipeline.py:61: FutureWarning: This Pipeline instance is not fitted yet. Call 'fit' with appropriate arguments before using other methods such as transform, predict, etc. This will raise an error in 1.8 instead of the current warning.\n",
      "  warnings.warn(\n"
     ]
    },
    {
     "name": "stdout",
     "output_type": "stream",
     "text": [
      "Best params: {'colsample_bytree': 0.8, 'learning_rate': 0.8, 'max_depth': 4, 'subsample': 0.5}\n",
      "Best (hold-out) score: 0.8435754189944135\n",
      "Best n_estimators (ES): 235\n",
      "Starting grid search...\n"
     ]
    },
    {
     "name": "stderr",
     "output_type": "stream",
     "text": [
      "c:\\Users\\kuroc\\OneDrive\\Escritorio\\deadly aliance\\titanic\\deadlyAliance\\Lib\\site-packages\\sklearn\\pipeline.py:61: FutureWarning: This Pipeline instance is not fitted yet. Call 'fit' with appropriate arguments before using other methods such as transform, predict, etc. This will raise an error in 1.8 instead of the current warning.\n",
      "  warnings.warn(\n"
     ]
    },
    {
     "name": "stdout",
     "output_type": "stream",
     "text": [
      "Best params: {'colsample_bytree': 0.9, 'learning_rate': 0.8, 'max_depth': 7, 'subsample': 1.0}\n",
      "Best (hold-out) score: 0.8491620111731844\n",
      "Best n_estimators (ES): 1663\n",
      "Starting grid search...\n"
     ]
    },
    {
     "name": "stderr",
     "output_type": "stream",
     "text": [
      "c:\\Users\\kuroc\\OneDrive\\Escritorio\\deadly aliance\\titanic\\deadlyAliance\\Lib\\site-packages\\sklearn\\pipeline.py:61: FutureWarning: This Pipeline instance is not fitted yet. Call 'fit' with appropriate arguments before using other methods such as transform, predict, etc. This will raise an error in 1.8 instead of the current warning.\n",
      "  warnings.warn(\n"
     ]
    },
    {
     "name": "stdout",
     "output_type": "stream",
     "text": [
      "Best params: {'colsample_bytree': 0.3, 'learning_rate': 0.8, 'max_depth': 7, 'subsample': 1.0}\n",
      "Best (hold-out) score: 0.88268156424581\n",
      "Best n_estimators (ES): 1292\n",
      "Starting grid search...\n"
     ]
    },
    {
     "name": "stderr",
     "output_type": "stream",
     "text": [
      "c:\\Users\\kuroc\\OneDrive\\Escritorio\\deadly aliance\\titanic\\deadlyAliance\\Lib\\site-packages\\sklearn\\pipeline.py:61: FutureWarning: This Pipeline instance is not fitted yet. Call 'fit' with appropriate arguments before using other methods such as transform, predict, etc. This will raise an error in 1.8 instead of the current warning.\n",
      "  warnings.warn(\n"
     ]
    },
    {
     "name": "stdout",
     "output_type": "stream",
     "text": [
      "Best params: {'colsample_bytree': 0.8, 'learning_rate': 0.2, 'max_depth': 5, 'subsample': 0.5}\n",
      "Best (hold-out) score: 0.8547486033519553\n",
      "Best n_estimators (ES): 856\n",
      "Starting grid search...\n"
     ]
    },
    {
     "name": "stderr",
     "output_type": "stream",
     "text": [
      "c:\\Users\\kuroc\\OneDrive\\Escritorio\\deadly aliance\\titanic\\deadlyAliance\\Lib\\site-packages\\sklearn\\pipeline.py:61: FutureWarning: This Pipeline instance is not fitted yet. Call 'fit' with appropriate arguments before using other methods such as transform, predict, etc. This will raise an error in 1.8 instead of the current warning.\n",
      "  warnings.warn(\n"
     ]
    },
    {
     "name": "stdout",
     "output_type": "stream",
     "text": [
      "Best params: {'colsample_bytree': 0.3, 'learning_rate': 0.8, 'max_depth': 4, 'subsample': 0.5}\n",
      "Best (hold-out) score: 0.8324022346368715\n",
      "Best n_estimators (ES): 211\n",
      "Starting grid search...\n"
     ]
    },
    {
     "name": "stderr",
     "output_type": "stream",
     "text": [
      "c:\\Users\\kuroc\\OneDrive\\Escritorio\\deadly aliance\\titanic\\deadlyAliance\\Lib\\site-packages\\sklearn\\pipeline.py:61: FutureWarning: This Pipeline instance is not fitted yet. Call 'fit' with appropriate arguments before using other methods such as transform, predict, etc. This will raise an error in 1.8 instead of the current warning.\n",
      "  warnings.warn(\n"
     ]
    },
    {
     "name": "stdout",
     "output_type": "stream",
     "text": [
      "Best params: {'colsample_bytree': 0.8, 'learning_rate': 0.8, 'max_depth': 3, 'subsample': 0.8}\n",
      "Best (hold-out) score: 0.8659217877094972\n",
      "Best n_estimators (ES): 379\n",
      "Starting grid search...\n"
     ]
    },
    {
     "name": "stderr",
     "output_type": "stream",
     "text": [
      "c:\\Users\\kuroc\\OneDrive\\Escritorio\\deadly aliance\\titanic\\deadlyAliance\\Lib\\site-packages\\sklearn\\pipeline.py:61: FutureWarning: This Pipeline instance is not fitted yet. Call 'fit' with appropriate arguments before using other methods such as transform, predict, etc. This will raise an error in 1.8 instead of the current warning.\n",
      "  warnings.warn(\n"
     ]
    },
    {
     "name": "stdout",
     "output_type": "stream",
     "text": [
      "Best params: {'colsample_bytree': 0.9, 'learning_rate': 0.8, 'max_depth': 7, 'subsample': 0.5}\n",
      "Best (hold-out) score: 0.888268156424581\n",
      "Best n_estimators (ES): 181\n",
      "Starting grid search...\n"
     ]
    },
    {
     "name": "stderr",
     "output_type": "stream",
     "text": [
      "c:\\Users\\kuroc\\OneDrive\\Escritorio\\deadly aliance\\titanic\\deadlyAliance\\Lib\\site-packages\\sklearn\\pipeline.py:61: FutureWarning: This Pipeline instance is not fitted yet. Call 'fit' with appropriate arguments before using other methods such as transform, predict, etc. This will raise an error in 1.8 instead of the current warning.\n",
      "  warnings.warn(\n"
     ]
    },
    {
     "name": "stdout",
     "output_type": "stream",
     "text": [
      "Best params: {'colsample_bytree': 0.9, 'learning_rate': 0.8, 'max_depth': 3, 'subsample': 0.5}\n",
      "Best (hold-out) score: 0.8770949720670391\n",
      "Best n_estimators (ES): 276\n",
      "Starting grid search...\n"
     ]
    },
    {
     "name": "stderr",
     "output_type": "stream",
     "text": [
      "c:\\Users\\kuroc\\OneDrive\\Escritorio\\deadly aliance\\titanic\\deadlyAliance\\Lib\\site-packages\\sklearn\\pipeline.py:61: FutureWarning: This Pipeline instance is not fitted yet. Call 'fit' with appropriate arguments before using other methods such as transform, predict, etc. This will raise an error in 1.8 instead of the current warning.\n",
      "  warnings.warn(\n"
     ]
    },
    {
     "name": "stdout",
     "output_type": "stream",
     "text": [
      "Best params: {'colsample_bytree': 0.9, 'learning_rate': 0.2, 'max_depth': 9, 'subsample': 0.5}\n",
      "Best (hold-out) score: 0.8715083798882681\n",
      "Best n_estimators (ES): 451\n",
      "Starting grid search...\n"
     ]
    },
    {
     "name": "stderr",
     "output_type": "stream",
     "text": [
      "c:\\Users\\kuroc\\OneDrive\\Escritorio\\deadly aliance\\titanic\\deadlyAliance\\Lib\\site-packages\\sklearn\\pipeline.py:61: FutureWarning: This Pipeline instance is not fitted yet. Call 'fit' with appropriate arguments before using other methods such as transform, predict, etc. This will raise an error in 1.8 instead of the current warning.\n",
      "  warnings.warn(\n"
     ]
    },
    {
     "name": "stdout",
     "output_type": "stream",
     "text": [
      "Best params: {'colsample_bytree': 0.9, 'learning_rate': 0.8, 'max_depth': 3, 'subsample': 0.5}\n",
      "Best (hold-out) score: 0.8715083798882681\n",
      "Best n_estimators (ES): 395\n",
      "Starting grid search...\n"
     ]
    },
    {
     "name": "stderr",
     "output_type": "stream",
     "text": [
      "c:\\Users\\kuroc\\OneDrive\\Escritorio\\deadly aliance\\titanic\\deadlyAliance\\Lib\\site-packages\\sklearn\\pipeline.py:61: FutureWarning: This Pipeline instance is not fitted yet. Call 'fit' with appropriate arguments before using other methods such as transform, predict, etc. This will raise an error in 1.8 instead of the current warning.\n",
      "  warnings.warn(\n"
     ]
    },
    {
     "name": "stdout",
     "output_type": "stream",
     "text": [
      "Best params: {'colsample_bytree': 0.8, 'learning_rate': 0.008, 'max_depth': 12, 'subsample': 1.0}\n",
      "Best (hold-out) score: 0.8770949720670391\n",
      "Best n_estimators (ES): 5000\n",
      "Starting grid search...\n"
     ]
    },
    {
     "name": "stderr",
     "output_type": "stream",
     "text": [
      "c:\\Users\\kuroc\\OneDrive\\Escritorio\\deadly aliance\\titanic\\deadlyAliance\\Lib\\site-packages\\sklearn\\pipeline.py:61: FutureWarning: This Pipeline instance is not fitted yet. Call 'fit' with appropriate arguments before using other methods such as transform, predict, etc. This will raise an error in 1.8 instead of the current warning.\n",
      "  warnings.warn(\n"
     ]
    },
    {
     "name": "stdout",
     "output_type": "stream",
     "text": [
      "Best params: {'colsample_bytree': 0.9, 'learning_rate': 0.1, 'max_depth': 4, 'subsample': 0.5}\n",
      "Best (hold-out) score: 0.8603351955307262\n",
      "Best n_estimators (ES): 1043\n",
      "Starting grid search...\n"
     ]
    },
    {
     "name": "stderr",
     "output_type": "stream",
     "text": [
      "c:\\Users\\kuroc\\OneDrive\\Escritorio\\deadly aliance\\titanic\\deadlyAliance\\Lib\\site-packages\\sklearn\\pipeline.py:61: FutureWarning: This Pipeline instance is not fitted yet. Call 'fit' with appropriate arguments before using other methods such as transform, predict, etc. This will raise an error in 1.8 instead of the current warning.\n",
      "  warnings.warn(\n"
     ]
    },
    {
     "name": "stdout",
     "output_type": "stream",
     "text": [
      "Best params: {'colsample_bytree': 1.0, 'learning_rate': 0.2, 'max_depth': 3, 'subsample': 0.8}\n",
      "Best (hold-out) score: 0.8379888268156425\n",
      "Best n_estimators (ES): 1024\n",
      "Starting grid search...\n"
     ]
    },
    {
     "name": "stderr",
     "output_type": "stream",
     "text": [
      "c:\\Users\\kuroc\\OneDrive\\Escritorio\\deadly aliance\\titanic\\deadlyAliance\\Lib\\site-packages\\sklearn\\pipeline.py:61: FutureWarning: This Pipeline instance is not fitted yet. Call 'fit' with appropriate arguments before using other methods such as transform, predict, etc. This will raise an error in 1.8 instead of the current warning.\n",
      "  warnings.warn(\n"
     ]
    },
    {
     "name": "stdout",
     "output_type": "stream",
     "text": [
      "Best params: {'colsample_bytree': 1.0, 'learning_rate': 0.1, 'max_depth': 9, 'subsample': 1.0}\n",
      "Best (hold-out) score: 0.8491620111731844\n",
      "Best n_estimators (ES): 2900\n",
      "Starting grid search...\n"
     ]
    },
    {
     "name": "stderr",
     "output_type": "stream",
     "text": [
      "c:\\Users\\kuroc\\OneDrive\\Escritorio\\deadly aliance\\titanic\\deadlyAliance\\Lib\\site-packages\\sklearn\\pipeline.py:61: FutureWarning: This Pipeline instance is not fitted yet. Call 'fit' with appropriate arguments before using other methods such as transform, predict, etc. This will raise an error in 1.8 instead of the current warning.\n",
      "  warnings.warn(\n"
     ]
    },
    {
     "name": "stdout",
     "output_type": "stream",
     "text": [
      "Best params: {'colsample_bytree': 0.9, 'learning_rate': 0.8, 'max_depth': 7, 'subsample': 1.0}\n",
      "Best (hold-out) score: 0.8100558659217877\n",
      "Best n_estimators (ES): 1514\n",
      "Starting grid search...\n"
     ]
    },
    {
     "name": "stderr",
     "output_type": "stream",
     "text": [
      "c:\\Users\\kuroc\\OneDrive\\Escritorio\\deadly aliance\\titanic\\deadlyAliance\\Lib\\site-packages\\sklearn\\pipeline.py:61: FutureWarning: This Pipeline instance is not fitted yet. Call 'fit' with appropriate arguments before using other methods such as transform, predict, etc. This will raise an error in 1.8 instead of the current warning.\n",
      "  warnings.warn(\n"
     ]
    },
    {
     "name": "stdout",
     "output_type": "stream",
     "text": [
      "Best params: {'colsample_bytree': 1.0, 'learning_rate': 0.1, 'max_depth': 3, 'subsample': 1.0}\n",
      "Best (hold-out) score: 0.8715083798882681\n",
      "Best n_estimators (ES): 5000\n",
      "Starting grid search...\n"
     ]
    },
    {
     "name": "stderr",
     "output_type": "stream",
     "text": [
      "c:\\Users\\kuroc\\OneDrive\\Escritorio\\deadly aliance\\titanic\\deadlyAliance\\Lib\\site-packages\\sklearn\\pipeline.py:61: FutureWarning: This Pipeline instance is not fitted yet. Call 'fit' with appropriate arguments before using other methods such as transform, predict, etc. This will raise an error in 1.8 instead of the current warning.\n",
      "  warnings.warn(\n"
     ]
    },
    {
     "name": "stdout",
     "output_type": "stream",
     "text": [
      "Best params: {'colsample_bytree': 1.0, 'learning_rate': 0.2, 'max_depth': 5, 'subsample': 0.9}\n",
      "Best (hold-out) score: 0.8603351955307262\n",
      "Best n_estimators (ES): 912\n",
      "Starting grid search...\n"
     ]
    },
    {
     "name": "stderr",
     "output_type": "stream",
     "text": [
      "c:\\Users\\kuroc\\OneDrive\\Escritorio\\deadly aliance\\titanic\\deadlyAliance\\Lib\\site-packages\\sklearn\\pipeline.py:61: FutureWarning: This Pipeline instance is not fitted yet. Call 'fit' with appropriate arguments before using other methods such as transform, predict, etc. This will raise an error in 1.8 instead of the current warning.\n",
      "  warnings.warn(\n"
     ]
    },
    {
     "name": "stdout",
     "output_type": "stream",
     "text": [
      "Best params: {'colsample_bytree': 1.0, 'learning_rate': 0.8, 'max_depth': 5, 'subsample': 0.5}\n",
      "Best (hold-out) score: 0.8938547486033519\n",
      "Best n_estimators (ES): 341\n",
      "Starting grid search...\n"
     ]
    },
    {
     "name": "stderr",
     "output_type": "stream",
     "text": [
      "c:\\Users\\kuroc\\OneDrive\\Escritorio\\deadly aliance\\titanic\\deadlyAliance\\Lib\\site-packages\\sklearn\\pipeline.py:61: FutureWarning: This Pipeline instance is not fitted yet. Call 'fit' with appropriate arguments before using other methods such as transform, predict, etc. This will raise an error in 1.8 instead of the current warning.\n",
      "  warnings.warn(\n"
     ]
    },
    {
     "name": "stdout",
     "output_type": "stream",
     "text": [
      "Best params: {'colsample_bytree': 0.3, 'learning_rate': 0.1, 'max_depth': 4, 'subsample': 0.5}\n",
      "Best (hold-out) score: 0.8547486033519553\n",
      "Best n_estimators (ES): 629\n",
      "Starting grid search...\n"
     ]
    },
    {
     "name": "stderr",
     "output_type": "stream",
     "text": [
      "c:\\Users\\kuroc\\OneDrive\\Escritorio\\deadly aliance\\titanic\\deadlyAliance\\Lib\\site-packages\\sklearn\\pipeline.py:61: FutureWarning: This Pipeline instance is not fitted yet. Call 'fit' with appropriate arguments before using other methods such as transform, predict, etc. This will raise an error in 1.8 instead of the current warning.\n",
      "  warnings.warn(\n"
     ]
    },
    {
     "name": "stdout",
     "output_type": "stream",
     "text": [
      "Best params: {'colsample_bytree': 1.0, 'learning_rate': 0.8, 'max_depth': 5, 'subsample': 0.8}\n",
      "Best (hold-out) score: 0.8938547486033519\n",
      "Best n_estimators (ES): 405\n",
      "Starting grid search...\n"
     ]
    },
    {
     "name": "stderr",
     "output_type": "stream",
     "text": [
      "c:\\Users\\kuroc\\OneDrive\\Escritorio\\deadly aliance\\titanic\\deadlyAliance\\Lib\\site-packages\\sklearn\\pipeline.py:61: FutureWarning: This Pipeline instance is not fitted yet. Call 'fit' with appropriate arguments before using other methods such as transform, predict, etc. This will raise an error in 1.8 instead of the current warning.\n",
      "  warnings.warn(\n"
     ]
    },
    {
     "name": "stdout",
     "output_type": "stream",
     "text": [
      "Best params: {'colsample_bytree': 0.9, 'learning_rate': 0.008, 'max_depth': 7, 'subsample': 1.0}\n",
      "Best (hold-out) score: 0.8603351955307262\n",
      "Best n_estimators (ES): 5000\n",
      "Starting grid search...\n"
     ]
    },
    {
     "name": "stderr",
     "output_type": "stream",
     "text": [
      "c:\\Users\\kuroc\\OneDrive\\Escritorio\\deadly aliance\\titanic\\deadlyAliance\\Lib\\site-packages\\sklearn\\pipeline.py:61: FutureWarning: This Pipeline instance is not fitted yet. Call 'fit' with appropriate arguments before using other methods such as transform, predict, etc. This will raise an error in 1.8 instead of the current warning.\n",
      "  warnings.warn(\n"
     ]
    },
    {
     "name": "stdout",
     "output_type": "stream",
     "text": [
      "Best params: {'colsample_bytree': 0.8, 'learning_rate': 0.1, 'max_depth': 3, 'subsample': 0.5}\n",
      "Best (hold-out) score: 0.8770949720670391\n",
      "Best n_estimators (ES): 911\n",
      "Starting grid search...\n"
     ]
    },
    {
     "name": "stderr",
     "output_type": "stream",
     "text": [
      "c:\\Users\\kuroc\\OneDrive\\Escritorio\\deadly aliance\\titanic\\deadlyAliance\\Lib\\site-packages\\sklearn\\pipeline.py:61: FutureWarning: This Pipeline instance is not fitted yet. Call 'fit' with appropriate arguments before using other methods such as transform, predict, etc. This will raise an error in 1.8 instead of the current warning.\n",
      "  warnings.warn(\n"
     ]
    },
    {
     "name": "stdout",
     "output_type": "stream",
     "text": [
      "Best params: {'colsample_bytree': 0.8, 'learning_rate': 0.008, 'max_depth': 12, 'subsample': 0.9}\n",
      "Best (hold-out) score: 0.8715083798882681\n",
      "Best n_estimators (ES): 5000\n",
      "Starting grid search...\n"
     ]
    },
    {
     "name": "stderr",
     "output_type": "stream",
     "text": [
      "c:\\Users\\kuroc\\OneDrive\\Escritorio\\deadly aliance\\titanic\\deadlyAliance\\Lib\\site-packages\\sklearn\\pipeline.py:61: FutureWarning: This Pipeline instance is not fitted yet. Call 'fit' with appropriate arguments before using other methods such as transform, predict, etc. This will raise an error in 1.8 instead of the current warning.\n",
      "  warnings.warn(\n"
     ]
    },
    {
     "name": "stdout",
     "output_type": "stream",
     "text": [
      "Best params: {'colsample_bytree': 0.3, 'learning_rate': 0.2, 'max_depth': 5, 'subsample': 1.0}\n",
      "Best (hold-out) score: 0.8603351955307262\n",
      "Best n_estimators (ES): 1142\n",
      "Starting grid search...\n"
     ]
    },
    {
     "name": "stderr",
     "output_type": "stream",
     "text": [
      "c:\\Users\\kuroc\\OneDrive\\Escritorio\\deadly aliance\\titanic\\deadlyAliance\\Lib\\site-packages\\sklearn\\pipeline.py:61: FutureWarning: This Pipeline instance is not fitted yet. Call 'fit' with appropriate arguments before using other methods such as transform, predict, etc. This will raise an error in 1.8 instead of the current warning.\n",
      "  warnings.warn(\n"
     ]
    },
    {
     "name": "stdout",
     "output_type": "stream",
     "text": [
      "Best params: {'colsample_bytree': 0.3, 'learning_rate': 0.2, 'max_depth': 12, 'subsample': 0.8}\n",
      "Best (hold-out) score: 0.8324022346368715\n",
      "Best n_estimators (ES): 456\n",
      "Starting grid search...\n"
     ]
    },
    {
     "name": "stderr",
     "output_type": "stream",
     "text": [
      "c:\\Users\\kuroc\\OneDrive\\Escritorio\\deadly aliance\\titanic\\deadlyAliance\\Lib\\site-packages\\sklearn\\pipeline.py:61: FutureWarning: This Pipeline instance is not fitted yet. Call 'fit' with appropriate arguments before using other methods such as transform, predict, etc. This will raise an error in 1.8 instead of the current warning.\n",
      "  warnings.warn(\n"
     ]
    },
    {
     "name": "stdout",
     "output_type": "stream",
     "text": [
      "Best params: {'colsample_bytree': 0.3, 'learning_rate': 0.8, 'max_depth': 4, 'subsample': 0.8}\n",
      "Best (hold-out) score: 0.8435754189944135\n",
      "Best n_estimators (ES): 458\n",
      "Starting grid search...\n"
     ]
    },
    {
     "name": "stderr",
     "output_type": "stream",
     "text": [
      "c:\\Users\\kuroc\\OneDrive\\Escritorio\\deadly aliance\\titanic\\deadlyAliance\\Lib\\site-packages\\sklearn\\pipeline.py:61: FutureWarning: This Pipeline instance is not fitted yet. Call 'fit' with appropriate arguments before using other methods such as transform, predict, etc. This will raise an error in 1.8 instead of the current warning.\n",
      "  warnings.warn(\n"
     ]
    },
    {
     "name": "stdout",
     "output_type": "stream",
     "text": [
      "Best params: {'colsample_bytree': 0.8, 'learning_rate': 0.2, 'max_depth': 4, 'subsample': 0.8}\n",
      "Best (hold-out) score: 0.8324022346368715\n",
      "Best n_estimators (ES): 1541\n",
      "Starting grid search...\n"
     ]
    },
    {
     "name": "stderr",
     "output_type": "stream",
     "text": [
      "c:\\Users\\kuroc\\OneDrive\\Escritorio\\deadly aliance\\titanic\\deadlyAliance\\Lib\\site-packages\\sklearn\\pipeline.py:61: FutureWarning: This Pipeline instance is not fitted yet. Call 'fit' with appropriate arguments before using other methods such as transform, predict, etc. This will raise an error in 1.8 instead of the current warning.\n",
      "  warnings.warn(\n"
     ]
    },
    {
     "name": "stdout",
     "output_type": "stream",
     "text": [
      "Best params: {'colsample_bytree': 1.0, 'learning_rate': 0.2, 'max_depth': 5, 'subsample': 0.9}\n",
      "Best (hold-out) score: 0.8603351955307262\n",
      "Best n_estimators (ES): 755\n",
      "Starting grid search...\n"
     ]
    },
    {
     "name": "stderr",
     "output_type": "stream",
     "text": [
      "c:\\Users\\kuroc\\OneDrive\\Escritorio\\deadly aliance\\titanic\\deadlyAliance\\Lib\\site-packages\\sklearn\\pipeline.py:61: FutureWarning: This Pipeline instance is not fitted yet. Call 'fit' with appropriate arguments before using other methods such as transform, predict, etc. This will raise an error in 1.8 instead of the current warning.\n",
      "  warnings.warn(\n"
     ]
    },
    {
     "name": "stdout",
     "output_type": "stream",
     "text": [
      "Best params: {'colsample_bytree': 0.3, 'learning_rate': 0.009, 'max_depth': 3, 'subsample': 1.0}\n",
      "Best (hold-out) score: 0.8603351955307262\n",
      "Best n_estimators (ES): 4999\n",
      "Starting grid search...\n"
     ]
    },
    {
     "name": "stderr",
     "output_type": "stream",
     "text": [
      "c:\\Users\\kuroc\\OneDrive\\Escritorio\\deadly aliance\\titanic\\deadlyAliance\\Lib\\site-packages\\sklearn\\pipeline.py:61: FutureWarning: This Pipeline instance is not fitted yet. Call 'fit' with appropriate arguments before using other methods such as transform, predict, etc. This will raise an error in 1.8 instead of the current warning.\n",
      "  warnings.warn(\n"
     ]
    },
    {
     "name": "stdout",
     "output_type": "stream",
     "text": [
      "Best params: {'colsample_bytree': 0.9, 'learning_rate': 0.8, 'max_depth': 3, 'subsample': 0.5}\n",
      "Best (hold-out) score: 0.88268156424581\n",
      "Best n_estimators (ES): 266\n",
      "Starting grid search...\n"
     ]
    },
    {
     "name": "stderr",
     "output_type": "stream",
     "text": [
      "c:\\Users\\kuroc\\OneDrive\\Escritorio\\deadly aliance\\titanic\\deadlyAliance\\Lib\\site-packages\\sklearn\\pipeline.py:61: FutureWarning: This Pipeline instance is not fitted yet. Call 'fit' with appropriate arguments before using other methods such as transform, predict, etc. This will raise an error in 1.8 instead of the current warning.\n",
      "  warnings.warn(\n"
     ]
    },
    {
     "name": "stdout",
     "output_type": "stream",
     "text": [
      "Best params: {'colsample_bytree': 0.8, 'learning_rate': 0.2, 'max_depth': 12, 'subsample': 0.5}\n",
      "Best (hold-out) score: 0.8770949720670391\n",
      "Best n_estimators (ES): 509\n",
      "Starting grid search...\n"
     ]
    },
    {
     "name": "stderr",
     "output_type": "stream",
     "text": [
      "c:\\Users\\kuroc\\OneDrive\\Escritorio\\deadly aliance\\titanic\\deadlyAliance\\Lib\\site-packages\\sklearn\\pipeline.py:61: FutureWarning: This Pipeline instance is not fitted yet. Call 'fit' with appropriate arguments before using other methods such as transform, predict, etc. This will raise an error in 1.8 instead of the current warning.\n",
      "  warnings.warn(\n"
     ]
    },
    {
     "name": "stdout",
     "output_type": "stream",
     "text": [
      "Best params: {'colsample_bytree': 0.3, 'learning_rate': 0.8, 'max_depth': 9, 'subsample': 0.5}\n",
      "Best (hold-out) score: 0.88268156424581\n",
      "Best n_estimators (ES): 152\n",
      "Starting grid search...\n"
     ]
    },
    {
     "name": "stderr",
     "output_type": "stream",
     "text": [
      "c:\\Users\\kuroc\\OneDrive\\Escritorio\\deadly aliance\\titanic\\deadlyAliance\\Lib\\site-packages\\sklearn\\pipeline.py:61: FutureWarning: This Pipeline instance is not fitted yet. Call 'fit' with appropriate arguments before using other methods such as transform, predict, etc. This will raise an error in 1.8 instead of the current warning.\n",
      "  warnings.warn(\n"
     ]
    },
    {
     "name": "stdout",
     "output_type": "stream",
     "text": [
      "Best params: {'colsample_bytree': 0.9, 'learning_rate': 0.8, 'max_depth': 4, 'subsample': 0.5}\n",
      "Best (hold-out) score: 0.8491620111731844\n",
      "Best n_estimators (ES): 267\n",
      "Starting grid search...\n"
     ]
    },
    {
     "name": "stderr",
     "output_type": "stream",
     "text": [
      "c:\\Users\\kuroc\\OneDrive\\Escritorio\\deadly aliance\\titanic\\deadlyAliance\\Lib\\site-packages\\sklearn\\pipeline.py:61: FutureWarning: This Pipeline instance is not fitted yet. Call 'fit' with appropriate arguments before using other methods such as transform, predict, etc. This will raise an error in 1.8 instead of the current warning.\n",
      "  warnings.warn(\n"
     ]
    },
    {
     "name": "stdout",
     "output_type": "stream",
     "text": [
      "Best params: {'colsample_bytree': 0.9, 'learning_rate': 0.01, 'max_depth': 7, 'subsample': 1.0}\n",
      "Best (hold-out) score: 0.8715083798882681\n",
      "Best n_estimators (ES): 5000\n",
      "Starting grid search...\n"
     ]
    },
    {
     "name": "stderr",
     "output_type": "stream",
     "text": [
      "c:\\Users\\kuroc\\OneDrive\\Escritorio\\deadly aliance\\titanic\\deadlyAliance\\Lib\\site-packages\\sklearn\\pipeline.py:61: FutureWarning: This Pipeline instance is not fitted yet. Call 'fit' with appropriate arguments before using other methods such as transform, predict, etc. This will raise an error in 1.8 instead of the current warning.\n",
      "  warnings.warn(\n"
     ]
    },
    {
     "name": "stdout",
     "output_type": "stream",
     "text": [
      "Best params: {'colsample_bytree': 1.0, 'learning_rate': 0.8, 'max_depth': 4, 'subsample': 0.9}\n",
      "Best (hold-out) score: 0.8938547486033519\n",
      "Best n_estimators (ES): 308\n",
      "Starting grid search...\n"
     ]
    },
    {
     "name": "stderr",
     "output_type": "stream",
     "text": [
      "c:\\Users\\kuroc\\OneDrive\\Escritorio\\deadly aliance\\titanic\\deadlyAliance\\Lib\\site-packages\\sklearn\\pipeline.py:61: FutureWarning: This Pipeline instance is not fitted yet. Call 'fit' with appropriate arguments before using other methods such as transform, predict, etc. This will raise an error in 1.8 instead of the current warning.\n",
      "  warnings.warn(\n"
     ]
    },
    {
     "name": "stdout",
     "output_type": "stream",
     "text": [
      "Best params: {'colsample_bytree': 0.3, 'learning_rate': 0.2, 'max_depth': 4, 'subsample': 0.9}\n",
      "Best (hold-out) score: 0.9050279329608939\n",
      "Best n_estimators (ES): 997\n",
      "Starting grid search...\n"
     ]
    },
    {
     "name": "stderr",
     "output_type": "stream",
     "text": [
      "c:\\Users\\kuroc\\OneDrive\\Escritorio\\deadly aliance\\titanic\\deadlyAliance\\Lib\\site-packages\\sklearn\\pipeline.py:61: FutureWarning: This Pipeline instance is not fitted yet. Call 'fit' with appropriate arguments before using other methods such as transform, predict, etc. This will raise an error in 1.8 instead of the current warning.\n",
      "  warnings.warn(\n"
     ]
    },
    {
     "name": "stdout",
     "output_type": "stream",
     "text": [
      "Best params: {'colsample_bytree': 0.3, 'learning_rate': 0.2, 'max_depth': 3, 'subsample': 0.9}\n",
      "Best (hold-out) score: 0.8603351955307262\n",
      "Best n_estimators (ES): 873\n",
      "Starting grid search...\n"
     ]
    },
    {
     "name": "stderr",
     "output_type": "stream",
     "text": [
      "c:\\Users\\kuroc\\OneDrive\\Escritorio\\deadly aliance\\titanic\\deadlyAliance\\Lib\\site-packages\\sklearn\\pipeline.py:61: FutureWarning: This Pipeline instance is not fitted yet. Call 'fit' with appropriate arguments before using other methods such as transform, predict, etc. This will raise an error in 1.8 instead of the current warning.\n",
      "  warnings.warn(\n"
     ]
    },
    {
     "name": "stdout",
     "output_type": "stream",
     "text": [
      "Best params: {'colsample_bytree': 1.0, 'learning_rate': 0.8, 'max_depth': 4, 'subsample': 0.5}\n",
      "Best (hold-out) score: 0.8547486033519553\n",
      "Best n_estimators (ES): 225\n",
      "Starting grid search...\n"
     ]
    },
    {
     "name": "stderr",
     "output_type": "stream",
     "text": [
      "c:\\Users\\kuroc\\OneDrive\\Escritorio\\deadly aliance\\titanic\\deadlyAliance\\Lib\\site-packages\\sklearn\\pipeline.py:61: FutureWarning: This Pipeline instance is not fitted yet. Call 'fit' with appropriate arguments before using other methods such as transform, predict, etc. This will raise an error in 1.8 instead of the current warning.\n",
      "  warnings.warn(\n"
     ]
    },
    {
     "name": "stdout",
     "output_type": "stream",
     "text": [
      "Best params: {'colsample_bytree': 1.0, 'learning_rate': 0.8, 'max_depth': 7, 'subsample': 0.9}\n",
      "Best (hold-out) score: 0.8715083798882681\n",
      "Best n_estimators (ES): 538\n",
      "Starting grid search...\n"
     ]
    },
    {
     "name": "stderr",
     "output_type": "stream",
     "text": [
      "c:\\Users\\kuroc\\OneDrive\\Escritorio\\deadly aliance\\titanic\\deadlyAliance\\Lib\\site-packages\\sklearn\\pipeline.py:61: FutureWarning: This Pipeline instance is not fitted yet. Call 'fit' with appropriate arguments before using other methods such as transform, predict, etc. This will raise an error in 1.8 instead of the current warning.\n",
      "  warnings.warn(\n"
     ]
    },
    {
     "name": "stdout",
     "output_type": "stream",
     "text": [
      "Best params: {'colsample_bytree': 1.0, 'learning_rate': 0.01, 'max_depth': 3, 'subsample': 0.8}\n",
      "Best (hold-out) score: 0.8435754189944135\n",
      "Best n_estimators (ES): 4994\n",
      "Starting grid search...\n"
     ]
    },
    {
     "name": "stderr",
     "output_type": "stream",
     "text": [
      "c:\\Users\\kuroc\\OneDrive\\Escritorio\\deadly aliance\\titanic\\deadlyAliance\\Lib\\site-packages\\sklearn\\pipeline.py:61: FutureWarning: This Pipeline instance is not fitted yet. Call 'fit' with appropriate arguments before using other methods such as transform, predict, etc. This will raise an error in 1.8 instead of the current warning.\n",
      "  warnings.warn(\n"
     ]
    },
    {
     "name": "stdout",
     "output_type": "stream",
     "text": [
      "Best params: {'colsample_bytree': 1.0, 'learning_rate': 0.2, 'max_depth': 14, 'subsample': 0.5}\n",
      "Best (hold-out) score: 0.9162011173184358\n",
      "Best n_estimators (ES): 616\n",
      "Starting grid search...\n"
     ]
    },
    {
     "name": "stderr",
     "output_type": "stream",
     "text": [
      "c:\\Users\\kuroc\\OneDrive\\Escritorio\\deadly aliance\\titanic\\deadlyAliance\\Lib\\site-packages\\sklearn\\pipeline.py:61: FutureWarning: This Pipeline instance is not fitted yet. Call 'fit' with appropriate arguments before using other methods such as transform, predict, etc. This will raise an error in 1.8 instead of the current warning.\n",
      "  warnings.warn(\n"
     ]
    },
    {
     "name": "stdout",
     "output_type": "stream",
     "text": [
      "Best params: {'colsample_bytree': 0.3, 'learning_rate': 0.8, 'max_depth': 4, 'subsample': 0.9}\n",
      "Best (hold-out) score: 0.8435754189944135\n",
      "Best n_estimators (ES): 301\n",
      "Starting grid search...\n"
     ]
    },
    {
     "name": "stderr",
     "output_type": "stream",
     "text": [
      "c:\\Users\\kuroc\\OneDrive\\Escritorio\\deadly aliance\\titanic\\deadlyAliance\\Lib\\site-packages\\sklearn\\pipeline.py:61: FutureWarning: This Pipeline instance is not fitted yet. Call 'fit' with appropriate arguments before using other methods such as transform, predict, etc. This will raise an error in 1.8 instead of the current warning.\n",
      "  warnings.warn(\n"
     ]
    },
    {
     "name": "stdout",
     "output_type": "stream",
     "text": [
      "Best params: {'colsample_bytree': 0.8, 'learning_rate': 0.2, 'max_depth': 4, 'subsample': 0.5}\n",
      "Best (hold-out) score: 0.8715083798882681\n",
      "Best n_estimators (ES): 907\n",
      "Starting grid search...\n"
     ]
    },
    {
     "name": "stderr",
     "output_type": "stream",
     "text": [
      "c:\\Users\\kuroc\\OneDrive\\Escritorio\\deadly aliance\\titanic\\deadlyAliance\\Lib\\site-packages\\sklearn\\pipeline.py:61: FutureWarning: This Pipeline instance is not fitted yet. Call 'fit' with appropriate arguments before using other methods such as transform, predict, etc. This will raise an error in 1.8 instead of the current warning.\n",
      "  warnings.warn(\n"
     ]
    },
    {
     "name": "stdout",
     "output_type": "stream",
     "text": [
      "Best params: {'colsample_bytree': 1.0, 'learning_rate': 0.2, 'max_depth': 3, 'subsample': 0.5}\n",
      "Best (hold-out) score: 0.8156424581005587\n",
      "Best n_estimators (ES): 907\n",
      "Starting grid search...\n"
     ]
    },
    {
     "name": "stderr",
     "output_type": "stream",
     "text": [
      "c:\\Users\\kuroc\\OneDrive\\Escritorio\\deadly aliance\\titanic\\deadlyAliance\\Lib\\site-packages\\sklearn\\pipeline.py:61: FutureWarning: This Pipeline instance is not fitted yet. Call 'fit' with appropriate arguments before using other methods such as transform, predict, etc. This will raise an error in 1.8 instead of the current warning.\n",
      "  warnings.warn(\n"
     ]
    },
    {
     "name": "stdout",
     "output_type": "stream",
     "text": [
      "Best params: {'colsample_bytree': 1.0, 'learning_rate': 0.2, 'max_depth': 5, 'subsample': 0.5}\n",
      "Best (hold-out) score: 0.8603351955307262\n",
      "Best n_estimators (ES): 817\n",
      "Starting grid search...\n"
     ]
    },
    {
     "name": "stderr",
     "output_type": "stream",
     "text": [
      "c:\\Users\\kuroc\\OneDrive\\Escritorio\\deadly aliance\\titanic\\deadlyAliance\\Lib\\site-packages\\sklearn\\pipeline.py:61: FutureWarning: This Pipeline instance is not fitted yet. Call 'fit' with appropriate arguments before using other methods such as transform, predict, etc. This will raise an error in 1.8 instead of the current warning.\n",
      "  warnings.warn(\n"
     ]
    },
    {
     "name": "stdout",
     "output_type": "stream",
     "text": [
      "Best params: {'colsample_bytree': 0.8, 'learning_rate': 0.8, 'max_depth': 5, 'subsample': 0.9}\n",
      "Best (hold-out) score: 0.8547486033519553\n",
      "Best n_estimators (ES): 589\n",
      "Starting grid search...\n"
     ]
    },
    {
     "name": "stderr",
     "output_type": "stream",
     "text": [
      "c:\\Users\\kuroc\\OneDrive\\Escritorio\\deadly aliance\\titanic\\deadlyAliance\\Lib\\site-packages\\sklearn\\pipeline.py:61: FutureWarning: This Pipeline instance is not fitted yet. Call 'fit' with appropriate arguments before using other methods such as transform, predict, etc. This will raise an error in 1.8 instead of the current warning.\n",
      "  warnings.warn(\n"
     ]
    },
    {
     "name": "stdout",
     "output_type": "stream",
     "text": [
      "Best params: {'colsample_bytree': 0.9, 'learning_rate': 0.8, 'max_depth': 4, 'subsample': 0.5}\n",
      "Best (hold-out) score: 0.8603351955307262\n",
      "Best n_estimators (ES): 240\n",
      "Starting grid search...\n"
     ]
    },
    {
     "name": "stderr",
     "output_type": "stream",
     "text": [
      "c:\\Users\\kuroc\\OneDrive\\Escritorio\\deadly aliance\\titanic\\deadlyAliance\\Lib\\site-packages\\sklearn\\pipeline.py:61: FutureWarning: This Pipeline instance is not fitted yet. Call 'fit' with appropriate arguments before using other methods such as transform, predict, etc. This will raise an error in 1.8 instead of the current warning.\n",
      "  warnings.warn(\n"
     ]
    },
    {
     "name": "stdout",
     "output_type": "stream",
     "text": [
      "Best params: {'colsample_bytree': 0.8, 'learning_rate': 0.8, 'max_depth': 13, 'subsample': 0.9}\n",
      "Best (hold-out) score: 0.88268156424581\n",
      "Best n_estimators (ES): 386\n",
      "[{'colsample_bytree': 1.0, 'learning_rate': 0.2, 'max_depth': 12, 'subsample': 0.5, 'n_estimators': 665, 'score': 0.8435754189944135}, {'colsample_bytree': 0.9, 'learning_rate': 0.8, 'max_depth': 7, 'subsample': 0.9, 'n_estimators': 277, 'score': 0.8491620111731844}, {'colsample_bytree': 0.8, 'learning_rate': 0.01, 'max_depth': 5, 'subsample': 0.5, 'n_estimators': 3339, 'score': 0.8659217877094972}, {'colsample_bytree': 0.3, 'learning_rate': 0.8, 'max_depth': 4, 'subsample': 0.8, 'n_estimators': 257, 'score': 0.888268156424581}, {'colsample_bytree': 1.0, 'learning_rate': 0.1, 'max_depth': 7, 'subsample': 0.5, 'n_estimators': 783, 'score': 0.8715083798882681}, {'colsample_bytree': 0.8, 'learning_rate': 0.8, 'max_depth': 7, 'subsample': 0.8, 'n_estimators': 486, 'score': 0.8491620111731844}, {'colsample_bytree': 0.3, 'learning_rate': 0.2, 'max_depth': 5, 'subsample': 0.5, 'n_estimators': 306, 'score': 0.8659217877094972}, {'colsample_bytree': 0.3, 'learning_rate': 0.008, 'max_depth': 3, 'subsample': 1.0, 'n_estimators': 5000, 'score': 0.888268156424581}, {'colsample_bytree': 1.0, 'learning_rate': 0.2, 'max_depth': 4, 'subsample': 0.8, 'n_estimators': 1138, 'score': 0.8435754189944135}, {'colsample_bytree': 1.0, 'learning_rate': 0.1, 'max_depth': 3, 'subsample': 1.0, 'n_estimators': 4876, 'score': 0.8547486033519553}, {'colsample_bytree': 0.8, 'learning_rate': 0.1, 'max_depth': 15, 'subsample': 0.8, 'n_estimators': 1368, 'score': 0.8547486033519553}, {'colsample_bytree': 1.0, 'learning_rate': 0.1, 'max_depth': 4, 'subsample': 0.5, 'n_estimators': 655, 'score': 0.888268156424581}, {'colsample_bytree': 0.9, 'learning_rate': 0.8, 'max_depth': 9, 'subsample': 1.0, 'n_estimators': 1252, 'score': 0.8324022346368715}, {'colsample_bytree': 0.8, 'learning_rate': 0.2, 'max_depth': 13, 'subsample': 0.9, 'n_estimators': 1098, 'score': 0.8268156424581006}, {'colsample_bytree': 0.8, 'learning_rate': 0.1, 'max_depth': 7, 'subsample': 0.9, 'n_estimators': 1220, 'score': 0.8603351955307262}, {'colsample_bytree': 0.8, 'learning_rate': 0.8, 'max_depth': 4, 'subsample': 0.5, 'n_estimators': 122, 'score': 0.8603351955307262}, {'colsample_bytree': 0.8, 'learning_rate': 0.1, 'max_depth': 14, 'subsample': 0.5, 'n_estimators': 1025, 'score': 0.8547486033519553}, {'colsample_bytree': 1.0, 'learning_rate': 0.1, 'max_depth': 15, 'subsample': 0.5, 'n_estimators': 731, 'score': 0.8603351955307262}, {'colsample_bytree': 0.3, 'learning_rate': 0.8, 'max_depth': 14, 'subsample': 0.8, 'n_estimators': 255, 'score': 0.88268156424581}, {'colsample_bytree': 1.0, 'learning_rate': 0.8, 'max_depth': 4, 'subsample': 0.8, 'n_estimators': 531, 'score': 0.88268156424581}, {'colsample_bytree': 0.8, 'learning_rate': 0.8, 'max_depth': 12, 'subsample': 0.8, 'n_estimators': 200, 'score': 0.8659217877094972}, {'colsample_bytree': 0.3, 'learning_rate': 0.8, 'max_depth': 7, 'subsample': 0.8, 'n_estimators': 480, 'score': 0.8324022346368715}, {'colsample_bytree': 0.3, 'learning_rate': 0.2, 'max_depth': 5, 'subsample': 0.5, 'n_estimators': 431, 'score': 0.8547486033519553}, {'colsample_bytree': 0.9, 'learning_rate': 0.8, 'max_depth': 4, 'subsample': 0.9, 'n_estimators': 389, 'score': 0.8603351955307262}, {'colsample_bytree': 0.8, 'learning_rate': 0.8, 'max_depth': 7, 'subsample': 0.5, 'n_estimators': 352, 'score': 0.8603351955307262}, {'colsample_bytree': 0.8, 'learning_rate': 0.8, 'max_depth': 3, 'subsample': 0.9, 'n_estimators': 499, 'score': 0.8659217877094972}, {'colsample_bytree': 0.8, 'learning_rate': 0.8, 'max_depth': 4, 'subsample': 0.9, 'n_estimators': 426, 'score': 0.8547486033519553}, {'colsample_bytree': 0.9, 'learning_rate': 0.1, 'max_depth': 7, 'subsample': 0.8, 'n_estimators': 1364, 'score': 0.7988826815642458}, {'colsample_bytree': 0.8, 'learning_rate': 0.2, 'max_depth': 14, 'subsample': 0.8, 'n_estimators': 532, 'score': 0.888268156424581}, {'colsample_bytree': 0.8, 'learning_rate': 0.1, 'max_depth': 12, 'subsample': 1.0, 'n_estimators': 2738, 'score': 0.8547486033519553}, {'colsample_bytree': 1.0, 'learning_rate': 0.8, 'max_depth': 5, 'subsample': 1.0, 'n_estimators': 1393, 'score': 0.8547486033519553}, {'colsample_bytree': 1.0, 'learning_rate': 0.8, 'max_depth': 3, 'subsample': 1.0, 'n_estimators': 1886, 'score': 0.8938547486033519}, {'colsample_bytree': 0.3, 'learning_rate': 0.8, 'max_depth': 3, 'subsample': 0.8, 'n_estimators': 535, 'score': 0.8435754189944135}, {'colsample_bytree': 0.8, 'learning_rate': 0.8, 'max_depth': 4, 'subsample': 0.9, 'n_estimators': 446, 'score': 0.8268156424581006}, {'colsample_bytree': 1.0, 'learning_rate': 0.008, 'max_depth': 3, 'subsample': 0.5, 'n_estimators': 4995, 'score': 0.8659217877094972}, {'colsample_bytree': 0.9, 'learning_rate': 0.8, 'max_depth': 3, 'subsample': 0.9, 'n_estimators': 519, 'score': 0.8603351955307262}, {'colsample_bytree': 0.3, 'learning_rate': 0.8, 'max_depth': 12, 'subsample': 0.8, 'n_estimators': 245, 'score': 0.888268156424581}, {'colsample_bytree': 1.0, 'learning_rate': 0.008, 'max_depth': 4, 'subsample': 1.0, 'n_estimators': 5000, 'score': 0.8603351955307262}, {'colsample_bytree': 0.8, 'learning_rate': 0.8, 'max_depth': 12, 'subsample': 0.8, 'n_estimators': 292, 'score': 0.888268156424581}, {'colsample_bytree': 0.8, 'learning_rate': 0.2, 'max_depth': 14, 'subsample': 0.8, 'n_estimators': 502, 'score': 0.88268156424581}, {'colsample_bytree': 0.9, 'learning_rate': 0.2, 'max_depth': 3, 'subsample': 0.5, 'n_estimators': 774, 'score': 0.88268156424581}, {'colsample_bytree': 0.8, 'learning_rate': 0.2, 'max_depth': 7, 'subsample': 0.8, 'n_estimators': 701, 'score': 0.8715083798882681}, {'colsample_bytree': 1.0, 'learning_rate': 0.8, 'max_depth': 5, 'subsample': 0.9, 'n_estimators': 294, 'score': 0.8435754189944135}, {'colsample_bytree': 0.8, 'learning_rate': 0.8, 'max_depth': 4, 'subsample': 0.9, 'n_estimators': 766, 'score': 0.8435754189944135}, {'colsample_bytree': 1.0, 'learning_rate': 0.2, 'max_depth': 7, 'subsample': 0.5, 'n_estimators': 642, 'score': 0.8659217877094972}, {'colsample_bytree': 0.3, 'learning_rate': 0.8, 'max_depth': 4, 'subsample': 0.9, 'n_estimators': 202, 'score': 0.8603351955307262}, {'colsample_bytree': 1.0, 'learning_rate': 0.2, 'max_depth': 4, 'subsample': 0.8, 'n_estimators': 1114, 'score': 0.8715083798882681}, {'colsample_bytree': 0.8, 'learning_rate': 0.009, 'max_depth': 13, 'subsample': 1.0, 'n_estimators': 5000, 'score': 0.8603351955307262}, {'colsample_bytree': 0.9, 'learning_rate': 0.8, 'max_depth': 3, 'subsample': 0.9, 'n_estimators': 633, 'score': 0.8603351955307262}, {'colsample_bytree': 1.0, 'learning_rate': 0.8, 'max_depth': 7, 'subsample': 0.8, 'n_estimators': 152, 'score': 0.8547486033519553}, {'colsample_bytree': 0.3, 'learning_rate': 0.8, 'max_depth': 13, 'subsample': 0.5, 'n_estimators': 56, 'score': 0.88268156424581}, {'colsample_bytree': 0.8, 'learning_rate': 0.2, 'max_depth': 5, 'subsample': 0.5, 'n_estimators': 680, 'score': 0.8770949720670391}, {'colsample_bytree': 0.8, 'learning_rate': 0.8, 'max_depth': 4, 'subsample': 0.5, 'n_estimators': 235, 'score': 0.8435754189944135}, {'colsample_bytree': 0.9, 'learning_rate': 0.8, 'max_depth': 7, 'subsample': 1.0, 'n_estimators': 1663, 'score': 0.8491620111731844}, {'colsample_bytree': 0.3, 'learning_rate': 0.8, 'max_depth': 7, 'subsample': 1.0, 'n_estimators': 1292, 'score': 0.88268156424581}, {'colsample_bytree': 0.8, 'learning_rate': 0.2, 'max_depth': 5, 'subsample': 0.5, 'n_estimators': 856, 'score': 0.8547486033519553}, {'colsample_bytree': 0.3, 'learning_rate': 0.8, 'max_depth': 4, 'subsample': 0.5, 'n_estimators': 211, 'score': 0.8324022346368715}, {'colsample_bytree': 0.8, 'learning_rate': 0.8, 'max_depth': 3, 'subsample': 0.8, 'n_estimators': 379, 'score': 0.8659217877094972}, {'colsample_bytree': 0.9, 'learning_rate': 0.8, 'max_depth': 7, 'subsample': 0.5, 'n_estimators': 181, 'score': 0.888268156424581}, {'colsample_bytree': 0.9, 'learning_rate': 0.8, 'max_depth': 3, 'subsample': 0.5, 'n_estimators': 276, 'score': 0.8770949720670391}, {'colsample_bytree': 0.9, 'learning_rate': 0.2, 'max_depth': 9, 'subsample': 0.5, 'n_estimators': 451, 'score': 0.8715083798882681}, {'colsample_bytree': 0.9, 'learning_rate': 0.8, 'max_depth': 3, 'subsample': 0.5, 'n_estimators': 395, 'score': 0.8715083798882681}, {'colsample_bytree': 0.8, 'learning_rate': 0.008, 'max_depth': 12, 'subsample': 1.0, 'n_estimators': 5000, 'score': 0.8770949720670391}, {'colsample_bytree': 0.9, 'learning_rate': 0.1, 'max_depth': 4, 'subsample': 0.5, 'n_estimators': 1043, 'score': 0.8603351955307262}, {'colsample_bytree': 1.0, 'learning_rate': 0.2, 'max_depth': 3, 'subsample': 0.8, 'n_estimators': 1024, 'score': 0.8379888268156425}, {'colsample_bytree': 1.0, 'learning_rate': 0.1, 'max_depth': 9, 'subsample': 1.0, 'n_estimators': 2900, 'score': 0.8491620111731844}, {'colsample_bytree': 0.9, 'learning_rate': 0.8, 'max_depth': 7, 'subsample': 1.0, 'n_estimators': 1514, 'score': 0.8100558659217877}, {'colsample_bytree': 1.0, 'learning_rate': 0.1, 'max_depth': 3, 'subsample': 1.0, 'n_estimators': 5000, 'score': 0.8715083798882681}, {'colsample_bytree': 1.0, 'learning_rate': 0.2, 'max_depth': 5, 'subsample': 0.9, 'n_estimators': 912, 'score': 0.8603351955307262}, {'colsample_bytree': 1.0, 'learning_rate': 0.8, 'max_depth': 5, 'subsample': 0.5, 'n_estimators': 341, 'score': 0.8938547486033519}, {'colsample_bytree': 0.3, 'learning_rate': 0.1, 'max_depth': 4, 'subsample': 0.5, 'n_estimators': 629, 'score': 0.8547486033519553}, {'colsample_bytree': 1.0, 'learning_rate': 0.8, 'max_depth': 5, 'subsample': 0.8, 'n_estimators': 405, 'score': 0.8938547486033519}, {'colsample_bytree': 0.9, 'learning_rate': 0.008, 'max_depth': 7, 'subsample': 1.0, 'n_estimators': 5000, 'score': 0.8603351955307262}, {'colsample_bytree': 0.8, 'learning_rate': 0.1, 'max_depth': 3, 'subsample': 0.5, 'n_estimators': 911, 'score': 0.8770949720670391}, {'colsample_bytree': 0.8, 'learning_rate': 0.008, 'max_depth': 12, 'subsample': 0.9, 'n_estimators': 5000, 'score': 0.8715083798882681}, {'colsample_bytree': 0.3, 'learning_rate': 0.2, 'max_depth': 5, 'subsample': 1.0, 'n_estimators': 1142, 'score': 0.8603351955307262}, {'colsample_bytree': 0.3, 'learning_rate': 0.2, 'max_depth': 12, 'subsample': 0.8, 'n_estimators': 456, 'score': 0.8324022346368715}, {'colsample_bytree': 0.3, 'learning_rate': 0.8, 'max_depth': 4, 'subsample': 0.8, 'n_estimators': 458, 'score': 0.8435754189944135}, {'colsample_bytree': 0.8, 'learning_rate': 0.2, 'max_depth': 4, 'subsample': 0.8, 'n_estimators': 1541, 'score': 0.8324022346368715}, {'colsample_bytree': 1.0, 'learning_rate': 0.2, 'max_depth': 5, 'subsample': 0.9, 'n_estimators': 755, 'score': 0.8603351955307262}, {'colsample_bytree': 0.3, 'learning_rate': 0.009, 'max_depth': 3, 'subsample': 1.0, 'n_estimators': 4999, 'score': 0.8603351955307262}, {'colsample_bytree': 0.9, 'learning_rate': 0.8, 'max_depth': 3, 'subsample': 0.5, 'n_estimators': 266, 'score': 0.88268156424581}, {'colsample_bytree': 0.8, 'learning_rate': 0.2, 'max_depth': 12, 'subsample': 0.5, 'n_estimators': 509, 'score': 0.8770949720670391}, {'colsample_bytree': 0.3, 'learning_rate': 0.8, 'max_depth': 9, 'subsample': 0.5, 'n_estimators': 152, 'score': 0.88268156424581}, {'colsample_bytree': 0.9, 'learning_rate': 0.8, 'max_depth': 4, 'subsample': 0.5, 'n_estimators': 267, 'score': 0.8491620111731844}, {'colsample_bytree': 0.9, 'learning_rate': 0.01, 'max_depth': 7, 'subsample': 1.0, 'n_estimators': 5000, 'score': 0.8715083798882681}, {'colsample_bytree': 1.0, 'learning_rate': 0.8, 'max_depth': 4, 'subsample': 0.9, 'n_estimators': 308, 'score': 0.8938547486033519}, {'colsample_bytree': 0.3, 'learning_rate': 0.2, 'max_depth': 4, 'subsample': 0.9, 'n_estimators': 997, 'score': 0.9050279329608939}, {'colsample_bytree': 0.3, 'learning_rate': 0.2, 'max_depth': 3, 'subsample': 0.9, 'n_estimators': 873, 'score': 0.8603351955307262}, {'colsample_bytree': 1.0, 'learning_rate': 0.8, 'max_depth': 4, 'subsample': 0.5, 'n_estimators': 225, 'score': 0.8547486033519553}, {'colsample_bytree': 1.0, 'learning_rate': 0.8, 'max_depth': 7, 'subsample': 0.9, 'n_estimators': 538, 'score': 0.8715083798882681}, {'colsample_bytree': 1.0, 'learning_rate': 0.01, 'max_depth': 3, 'subsample': 0.8, 'n_estimators': 4994, 'score': 0.8435754189944135}, {'colsample_bytree': 1.0, 'learning_rate': 0.2, 'max_depth': 14, 'subsample': 0.5, 'n_estimators': 616, 'score': 0.9162011173184358}, {'colsample_bytree': 0.3, 'learning_rate': 0.8, 'max_depth': 4, 'subsample': 0.9, 'n_estimators': 301, 'score': 0.8435754189944135}, {'colsample_bytree': 0.8, 'learning_rate': 0.2, 'max_depth': 4, 'subsample': 0.5, 'n_estimators': 907, 'score': 0.8715083798882681}, {'colsample_bytree': 1.0, 'learning_rate': 0.2, 'max_depth': 3, 'subsample': 0.5, 'n_estimators': 907, 'score': 0.8156424581005587}, {'colsample_bytree': 1.0, 'learning_rate': 0.2, 'max_depth': 5, 'subsample': 0.5, 'n_estimators': 817, 'score': 0.8603351955307262}, {'colsample_bytree': 0.8, 'learning_rate': 0.8, 'max_depth': 5, 'subsample': 0.9, 'n_estimators': 589, 'score': 0.8547486033519553}, {'colsample_bytree': 0.9, 'learning_rate': 0.8, 'max_depth': 4, 'subsample': 0.5, 'n_estimators': 240, 'score': 0.8603351955307262}, {'colsample_bytree': 0.8, 'learning_rate': 0.8, 'max_depth': 13, 'subsample': 0.9, 'n_estimators': 386, 'score': 0.88268156424581}]\n"
     ]
    }
   ],
   "source": [
    "param_grid = {\n",
    "    'max_depth': [3, 4, 5, 7, 9 ,12, 13, 14, 15],\n",
    "    'learning_rate': [0.008,0.009 ,0.01, 0.1, 0.2, 0.8],\n",
    "    'subsample': [0.5, 0.8, 0.9, 1.0],\n",
    "    'colsample_bytree': [0.3, 0.8, 0.9, 1.0]\n",
    "}\n",
    "\n",
    "df=dataset.copy()\n",
    "y = df.pop('Survived')\n",
    "dfcv=df.copy()\n",
    "params=[]\n",
    "\n",
    "for i in range(100):\n",
    "    data_preprocessor = TitanicPreprocessor()\n",
    "\n",
    "    prep = Pipeline([('pre-processor', TitanicPreprocessor()),('noise_remover', NoiseRemover())])\n",
    "    X_preprocessed, X_eval_preprocessed, y_all, y_eval, test_fold = generate_predefined_split(y, prep)\n",
    "\n",
    "    grid_search = GridSearchCV(\n",
    "        estimator=model,\n",
    "        param_grid=param_grid,\n",
    "        cv=PredefinedSplit(test_fold),\n",
    "        scoring='accuracy',\n",
    "        n_jobs=-1,  # Use all available cores\n",
    "        verbose=0  # Print progress\n",
    "    )\n",
    "\n",
    "    print(\"Starting grid search...\")\n",
    "    grid_search.fit(X_preprocessed, y_all,eval_set=[(X_eval_preprocessed, y_eval)],verbose=False)\n",
    "\n",
    "    best_xgb = grid_search.best_estimator_\n",
    "    best_iter = getattr(best_xgb, \"best_iteration\", None)\n",
    "    print(\"Best params:\", grid_search.best_params_)\n",
    "    print(\"Best (hold-out) score:\", grid_search.best_score_)\n",
    "    n_estimators=(best_iter + 1) if best_iter is not None else 0\n",
    "    print(\"Best n_estimators (ES):\", n_estimators)\n",
    "    grid_search.best_params_[\"n_estimators\"]=n_estimators\n",
    "    grid_search.best_params_[\"score\"]=grid_search.best_score_\n",
    "    params.append(grid_search.best_params_)\n",
    "\n",
    "paramsFileContent=pd.DataFrame(params)\n",
    "paramsFileContent.to_csv(\"params.csv\", index=False)\n",
    "\n",
    "print(params)\n",
    "\n",
    "#[{'colsample_bytree': 0.8, 'learning_rate': 0.8, 'max_depth': 9, 'subsample': 0.5}, {'colsample_bytree': 0.8, 'learning_rate': 0.01, 'max_depth': 5, 'subsample': 0.5}]\n",
    "\n"
   ]
  },
  {
   "cell_type": "code",
   "execution_count": 4,
   "metadata": {},
   "outputs": [
    {
     "name": "stdout",
     "output_type": "stream",
     "text": [
      "para los siguientes hiperparametros\n",
      "{'colsample_bytree': 1.0, 'learning_rate': 0.2, 'max_depth': 12, 'subsample': 0.5, 'n_estimators': 665, 'score': 0.8435754189944135, 'cross_validation_score': 0.8058627832527776, 'cross_validation_error_margin': 0.013132293251322733}\n",
      "El promedio de precision en cross validation es: 0.8059 (+/- 0.0263)\n",
      "para los siguientes hiperparametros\n",
      "{'colsample_bytree': 0.9, 'learning_rate': 0.8, 'max_depth': 7, 'subsample': 0.9, 'n_estimators': 277, 'score': 0.8491620111731844, 'cross_validation_score': 0.8024794425961961, 'cross_validation_error_margin': 0.021915880417229545}\n",
      "El promedio de precision en cross validation es: 0.8025 (+/- 0.0438)\n",
      "para los siguientes hiperparametros\n",
      "{'colsample_bytree': 0.8, 'learning_rate': 0.01, 'max_depth': 5, 'subsample': 0.5, 'n_estimators': 3339, 'score': 0.8659217877094972, 'cross_validation_score': 0.8271922666499277, 'cross_validation_error_margin': 0.01958100729447747}\n",
      "El promedio de precision en cross validation es: 0.8272 (+/- 0.0392)\n",
      "para los siguientes hiperparametros\n",
      "{'colsample_bytree': 0.3, 'learning_rate': 0.8, 'max_depth': 4, 'subsample': 0.8, 'n_estimators': 257, 'score': 0.888268156424581, 'cross_validation_score': 0.815956311593748, 'cross_validation_error_margin': 0.02240794374946869}\n",
      "El promedio de precision en cross validation es: 0.8160 (+/- 0.0448)\n",
      "para los siguientes hiperparametros\n",
      "{'colsample_bytree': 1.0, 'learning_rate': 0.1, 'max_depth': 7, 'subsample': 0.5, 'n_estimators': 783, 'score': 0.8715083798882681, 'cross_validation_score': 0.8081036971941498, 'cross_validation_error_margin': 0.014038795504780575}\n",
      "El promedio de precision en cross validation es: 0.8081 (+/- 0.0281)\n",
      "para los siguientes hiperparametros\n",
      "{'colsample_bytree': 0.8, 'learning_rate': 0.8, 'max_depth': 7, 'subsample': 0.8, 'n_estimators': 486, 'score': 0.8491620111731844, 'cross_validation_score': 0.7991525955683887, 'cross_validation_error_margin': 0.030025139190396215}\n",
      "El promedio de precision en cross validation es: 0.7992 (+/- 0.0601)\n",
      "para los siguientes hiperparametros\n",
      "{'colsample_bytree': 0.3, 'learning_rate': 0.2, 'max_depth': 5, 'subsample': 0.5, 'n_estimators': 306, 'score': 0.8659217877094972, 'cross_validation_score': 0.8327788588286987, 'cross_validation_error_margin': 0.014737605616620837}\n",
      "El promedio de precision en cross validation es: 0.8328 (+/- 0.0295)\n",
      "para los siguientes hiperparametros\n",
      "{'colsample_bytree': 0.3, 'learning_rate': 0.008, 'max_depth': 3, 'subsample': 1.0, 'n_estimators': 5000, 'score': 0.888268156424581, 'cross_validation_score': 0.8305316678174629, 'cross_validation_error_margin': 0.01518868809219353}\n",
      "El promedio de precision en cross validation es: 0.8305 (+/- 0.0304)\n",
      "para los siguientes hiperparametros\n",
      "{'colsample_bytree': 1.0, 'learning_rate': 0.2, 'max_depth': 4, 'subsample': 0.8, 'n_estimators': 1138, 'score': 0.8435754189944135, 'cross_validation_score': 0.8024919967359236, 'cross_validation_error_margin': 0.01797438708884642}\n",
      "El promedio de precision en cross validation es: 0.8025 (+/- 0.0359)\n",
      "para los siguientes hiperparametros\n",
      "{'colsample_bytree': 1.0, 'learning_rate': 0.1, 'max_depth': 3, 'subsample': 1.0, 'n_estimators': 4876, 'score': 0.8547486033519553, 'cross_validation_score': 0.80585022911305, 'cross_validation_error_margin': 0.016711382633444936}\n",
      "El promedio de precision en cross validation es: 0.8059 (+/- 0.0334)\n",
      "para los siguientes hiperparametros\n",
      "{'colsample_bytree': 0.8, 'learning_rate': 0.1, 'max_depth': 15, 'subsample': 0.8, 'n_estimators': 1368, 'score': 0.8547486033519553, 'cross_validation_score': 0.8013746783001696, 'cross_validation_error_margin': 0.018663879000146415}\n",
      "El promedio de precision en cross validation es: 0.8014 (+/- 0.0373)\n",
      "para los siguientes hiperparametros\n",
      "{'colsample_bytree': 1.0, 'learning_rate': 0.1, 'max_depth': 4, 'subsample': 0.5, 'n_estimators': 655, 'score': 0.888268156424581, 'cross_validation_score': 0.8092398468394952, 'cross_validation_error_margin': 0.01728993798052337}\n",
      "El promedio de precision en cross validation es: 0.8092 (+/- 0.0346)\n",
      "para los siguientes hiperparametros\n",
      "{'colsample_bytree': 0.9, 'learning_rate': 0.8, 'max_depth': 9, 'subsample': 1.0, 'n_estimators': 1252, 'score': 0.8324022346368715, 'cross_validation_score': 0.7935032326909799, 'cross_validation_error_margin': 0.017384770801104312}\n",
      "El promedio de precision en cross validation es: 0.7935 (+/- 0.0348)\n",
      "para los siguientes hiperparametros\n",
      "{'colsample_bytree': 0.8, 'learning_rate': 0.2, 'max_depth': 13, 'subsample': 0.9, 'n_estimators': 1098, 'score': 0.8268156424581006, 'cross_validation_score': 0.7957629778419435, 'cross_validation_error_margin': 0.02526650135029357}\n",
      "El promedio de precision en cross validation es: 0.7958 (+/- 0.0505)\n",
      "para los siguientes hiperparametros\n",
      "{'colsample_bytree': 0.8, 'learning_rate': 0.1, 'max_depth': 7, 'subsample': 0.9, 'n_estimators': 1220, 'score': 0.8603351955307262, 'cross_validation_score': 0.7991274872889335, 'cross_validation_error_margin': 0.022884258083754654}\n",
      "El promedio de precision en cross validation es: 0.7991 (+/- 0.0458)\n",
      "para los siguientes hiperparametros\n",
      "{'colsample_bytree': 0.8, 'learning_rate': 0.8, 'max_depth': 4, 'subsample': 0.5, 'n_estimators': 122, 'score': 0.8603351955307262, 'cross_validation_score': 0.7878727010231625, 'cross_validation_error_margin': 0.023456641601845563}\n",
      "El promedio de precision en cross validation es: 0.7879 (+/- 0.0469)\n",
      "para los siguientes hiperparametros\n",
      "{'colsample_bytree': 0.8, 'learning_rate': 0.1, 'max_depth': 14, 'subsample': 0.5, 'n_estimators': 1025, 'score': 0.8547486033519553, 'cross_validation_score': 0.8092272926997678, 'cross_validation_error_margin': 0.017467796362365444}\n",
      "El promedio de precision en cross validation es: 0.8092 (+/- 0.0349)\n",
      "para los siguientes hiperparametros\n",
      "{'colsample_bytree': 1.0, 'learning_rate': 0.1, 'max_depth': 15, 'subsample': 0.5, 'n_estimators': 731, 'score': 0.8603351955307262, 'cross_validation_score': 0.8092210156299039, 'cross_validation_error_margin': 0.018934160862179136}\n",
      "El promedio de precision en cross validation es: 0.8092 (+/- 0.0379)\n",
      "para los siguientes hiperparametros\n",
      "{'colsample_bytree': 0.3, 'learning_rate': 0.8, 'max_depth': 14, 'subsample': 0.8, 'n_estimators': 255, 'score': 0.88268156424581, 'cross_validation_score': 0.8092335697696316, 'cross_validation_error_margin': 0.02273153470564169}\n",
      "El promedio de precision en cross validation es: 0.8092 (+/- 0.0455)\n",
      "para los siguientes hiperparametros\n",
      "{'colsample_bytree': 1.0, 'learning_rate': 0.8, 'max_depth': 4, 'subsample': 0.8, 'n_estimators': 531, 'score': 0.88268156424581, 'cross_validation_score': 0.7923733601154981, 'cross_validation_error_margin': 0.011126282957752212}\n",
      "El promedio de precision en cross validation es: 0.7924 (+/- 0.0223)\n",
      "para los siguientes hiperparametros\n",
      "{'colsample_bytree': 0.8, 'learning_rate': 0.8, 'max_depth': 12, 'subsample': 0.8, 'n_estimators': 200, 'score': 0.8659217877094972, 'cross_validation_score': 0.7979976147134517, 'cross_validation_error_margin': 0.018244283852133742}\n",
      "El promedio de precision en cross validation es: 0.7980 (+/- 0.0365)\n",
      "para los siguientes hiperparametros\n",
      "{'colsample_bytree': 0.3, 'learning_rate': 0.8, 'max_depth': 7, 'subsample': 0.8, 'n_estimators': 480, 'score': 0.8324022346368715, 'cross_validation_score': 0.7991086560793422, 'cross_validation_error_margin': 0.018176235370810923}\n",
      "El promedio de precision en cross validation es: 0.7991 (+/- 0.0364)\n",
      "para los siguientes hiperparametros\n",
      "{'colsample_bytree': 0.3, 'learning_rate': 0.2, 'max_depth': 5, 'subsample': 0.5, 'n_estimators': 431, 'score': 0.8547486033519553, 'cross_validation_score': 0.8283033080158182, 'cross_validation_error_margin': 0.022463094184695286}\n",
      "El promedio de precision en cross validation es: 0.8283 (+/- 0.0449)\n",
      "para los siguientes hiperparametros\n",
      "{'colsample_bytree': 0.9, 'learning_rate': 0.8, 'max_depth': 4, 'subsample': 0.9, 'n_estimators': 389, 'score': 0.8603351955307262, 'cross_validation_score': 0.8013935095097608, 'cross_validation_error_margin': 0.023244414332026845}\n",
      "El promedio de precision en cross validation es: 0.8014 (+/- 0.0465)\n",
      "para los siguientes hiperparametros\n",
      "{'colsample_bytree': 0.8, 'learning_rate': 0.8, 'max_depth': 7, 'subsample': 0.5, 'n_estimators': 352, 'score': 0.8603351955307262, 'cross_validation_score': 0.7867679367271357, 'cross_validation_error_margin': 0.015312692896270472}\n",
      "El promedio de precision en cross validation es: 0.7868 (+/- 0.0306)\n",
      "para los siguientes hiperparametros\n",
      "{'colsample_bytree': 0.8, 'learning_rate': 0.8, 'max_depth': 3, 'subsample': 0.9, 'n_estimators': 499, 'score': 0.8659217877094972, 'cross_validation_score': 0.8047517418868871, 'cross_validation_error_margin': 0.027059966951046958}\n",
      "El promedio de precision en cross validation es: 0.8048 (+/- 0.0541)\n",
      "para los siguientes hiperparametros\n",
      "{'colsample_bytree': 0.8, 'learning_rate': 0.8, 'max_depth': 4, 'subsample': 0.9, 'n_estimators': 426, 'score': 0.8547486033519553, 'cross_validation_score': 0.7957504237022158, 'cross_validation_error_margin': 0.026363225632598714}\n",
      "El promedio de precision en cross validation es: 0.7958 (+/- 0.0527)\n",
      "para los siguientes hiperparametros\n",
      "{'colsample_bytree': 0.9, 'learning_rate': 0.1, 'max_depth': 7, 'subsample': 0.8, 'n_estimators': 1364, 'score': 0.7988826815642458, 'cross_validation_score': 0.8002510827945516, 'cross_validation_error_margin': 0.025032924710967745}\n",
      "El promedio de precision en cross validation es: 0.8003 (+/- 0.0501)\n",
      "para los siguientes hiperparametros\n",
      "{'colsample_bytree': 0.8, 'learning_rate': 0.2, 'max_depth': 14, 'subsample': 0.8, 'n_estimators': 532, 'score': 0.888268156424581, 'cross_validation_score': 0.7968991274872889, 'cross_validation_error_margin': 0.02404325400234874}\n",
      "El promedio de precision en cross validation es: 0.7969 (+/- 0.0481)\n",
      "para los siguientes hiperparametros\n",
      "{'colsample_bytree': 0.8, 'learning_rate': 0.1, 'max_depth': 12, 'subsample': 1.0, 'n_estimators': 2738, 'score': 0.8547486033519553, 'cross_validation_score': 0.8024857196660597, 'cross_validation_error_margin': 0.018402152892995995}\n",
      "El promedio de precision en cross validation es: 0.8025 (+/- 0.0368)\n",
      "para los siguientes hiperparametros\n",
      "{'colsample_bytree': 1.0, 'learning_rate': 0.8, 'max_depth': 5, 'subsample': 1.0, 'n_estimators': 1393, 'score': 0.8547486033519553, 'cross_validation_score': 0.8024731655263324, 'cross_validation_error_margin': 0.0185496346604624}\n",
      "El promedio de precision en cross validation es: 0.8025 (+/- 0.0371)\n",
      "para los siguientes hiperparametros\n",
      "{'colsample_bytree': 1.0, 'learning_rate': 0.8, 'max_depth': 3, 'subsample': 1.0, 'n_estimators': 1886, 'score': 0.8938547486033519, 'cross_validation_score': 0.80248571966606, 'cross_validation_error_margin': 0.013680029527300385}\n",
      "El promedio de precision en cross validation es: 0.8025 (+/- 0.0274)\n",
      "para los siguientes hiperparametros\n",
      "{'colsample_bytree': 0.3, 'learning_rate': 0.8, 'max_depth': 3, 'subsample': 0.8, 'n_estimators': 535, 'score': 0.8435754189944135, 'cross_validation_score': 0.8137153976523759, 'cross_validation_error_margin': 0.02878502038544014}\n",
      "El promedio de precision en cross validation es: 0.8137 (+/- 0.0576)\n",
      "para los siguientes hiperparametros\n",
      "{'colsample_bytree': 0.8, 'learning_rate': 0.8, 'max_depth': 4, 'subsample': 0.9, 'n_estimators': 446, 'score': 0.8268156424581006, 'cross_validation_score': 0.7957378695624883, 'cross_validation_error_margin': 0.024227248689168056}\n",
      "El promedio de precision en cross validation es: 0.7957 (+/- 0.0485)\n",
      "para los siguientes hiperparametros\n",
      "{'colsample_bytree': 1.0, 'learning_rate': 0.008, 'max_depth': 3, 'subsample': 0.5, 'n_estimators': 4995, 'score': 0.8659217877094972, 'cross_validation_score': 0.8361433682756889, 'cross_validation_error_margin': 0.01022234655279627}\n",
      "El promedio de precision en cross validation es: 0.8361 (+/- 0.0204)\n",
      "para los siguientes hiperparametros\n",
      "{'colsample_bytree': 0.9, 'learning_rate': 0.8, 'max_depth': 3, 'subsample': 0.9, 'n_estimators': 519, 'score': 0.8603351955307262, 'cross_validation_score': 0.8103634423451134, 'cross_validation_error_margin': 0.028209744190755254}\n",
      "El promedio de precision en cross validation es: 0.8104 (+/- 0.0564)\n",
      "para los siguientes hiperparametros\n",
      "{'colsample_bytree': 0.3, 'learning_rate': 0.8, 'max_depth': 12, 'subsample': 0.8, 'n_estimators': 245, 'score': 0.888268156424581, 'cross_validation_score': 0.8069612704789405, 'cross_validation_error_margin': 0.026469672000113423}\n",
      "El promedio de precision en cross validation es: 0.8070 (+/- 0.0529)\n",
      "para los siguientes hiperparametros\n",
      "{'colsample_bytree': 1.0, 'learning_rate': 0.008, 'max_depth': 4, 'subsample': 1.0, 'n_estimators': 5000, 'score': 0.8603351955307262, 'cross_validation_score': 0.8159563115937483, 'cross_validation_error_margin': 0.017684623661322705}\n",
      "El promedio de precision en cross validation es: 0.8160 (+/- 0.0354)\n",
      "para los siguientes hiperparametros\n",
      "{'colsample_bytree': 0.8, 'learning_rate': 0.8, 'max_depth': 12, 'subsample': 0.8, 'n_estimators': 292, 'score': 0.888268156424581, 'cross_validation_score': 0.7923921913250894, 'cross_validation_error_margin': 0.021349729253799188}\n",
      "El promedio de precision en cross validation es: 0.7924 (+/- 0.0427)\n",
      "para los siguientes hiperparametros\n",
      "{'colsample_bytree': 0.8, 'learning_rate': 0.2, 'max_depth': 14, 'subsample': 0.8, 'n_estimators': 502, 'score': 0.88268156424581, 'cross_validation_score': 0.8002510827945514, 'cross_validation_error_margin': 0.019343059415097626}\n",
      "El promedio de precision en cross validation es: 0.8003 (+/- 0.0387)\n",
      "para los siguientes hiperparametros\n",
      "{'colsample_bytree': 0.9, 'learning_rate': 0.2, 'max_depth': 3, 'subsample': 0.5, 'n_estimators': 774, 'score': 0.88268156424581, 'cross_validation_score': 0.8126169104262131, 'cross_validation_error_margin': 0.026321937274583873}\n",
      "El promedio de precision en cross validation es: 0.8126 (+/- 0.0526)\n",
      "para los siguientes hiperparametros\n",
      "{'colsample_bytree': 0.8, 'learning_rate': 0.2, 'max_depth': 7, 'subsample': 0.8, 'n_estimators': 701, 'score': 0.8715083798882681, 'cross_validation_score': 0.8025045508756513, 'cross_validation_error_margin': 0.02464045046088231}\n",
      "El promedio de precision en cross validation es: 0.8025 (+/- 0.0493)\n",
      "para los siguientes hiperparametros\n",
      "{'colsample_bytree': 1.0, 'learning_rate': 0.8, 'max_depth': 5, 'subsample': 0.9, 'n_estimators': 294, 'score': 0.8435754189944135, 'cross_validation_score': 0.7968802962776975, 'cross_validation_error_margin': 0.024506442860124954}\n",
      "El promedio de precision en cross validation es: 0.7969 (+/- 0.0490)\n",
      "para los siguientes hiperparametros\n",
      "{'colsample_bytree': 0.8, 'learning_rate': 0.8, 'max_depth': 4, 'subsample': 0.9, 'n_estimators': 766, 'score': 0.8435754189944135, 'cross_validation_score': 0.7968677421379701, 'cross_validation_error_margin': 0.02219944484827951}\n",
      "El promedio de precision en cross validation es: 0.7969 (+/- 0.0444)\n",
      "para los siguientes hiperparametros\n",
      "{'colsample_bytree': 1.0, 'learning_rate': 0.2, 'max_depth': 7, 'subsample': 0.5, 'n_estimators': 642, 'score': 0.8659217877094972, 'cross_validation_score': 0.7991086560793421, 'cross_validation_error_margin': 0.013838503446116443}\n",
      "El promedio de precision en cross validation es: 0.7991 (+/- 0.0277)\n",
      "para los siguientes hiperparametros\n",
      "{'colsample_bytree': 0.3, 'learning_rate': 0.8, 'max_depth': 4, 'subsample': 0.9, 'n_estimators': 202, 'score': 0.8603351955307262, 'cross_validation_score': 0.8136902893729208, 'cross_validation_error_margin': 0.030863200362161065}\n",
      "El promedio de precision en cross validation es: 0.8137 (+/- 0.0617)\n",
      "para los siguientes hiperparametros\n",
      "{'colsample_bytree': 1.0, 'learning_rate': 0.2, 'max_depth': 4, 'subsample': 0.8, 'n_estimators': 1114, 'score': 0.8715083798882681, 'cross_validation_score': 0.8081036971941498, 'cross_validation_error_margin': 0.012617994033034709}\n",
      "El promedio de precision en cross validation es: 0.8081 (+/- 0.0252)\n",
      "para los siguientes hiperparametros\n",
      "{'colsample_bytree': 0.8, 'learning_rate': 0.009, 'max_depth': 13, 'subsample': 1.0, 'n_estimators': 5000, 'score': 0.8603351955307262, 'cross_validation_score': 0.8036093151716777, 'cross_validation_error_margin': 0.019259474292267854}\n",
      "El promedio de precision en cross validation es: 0.8036 (+/- 0.0385)\n",
      "para los siguientes hiperparametros\n",
      "{'colsample_bytree': 0.9, 'learning_rate': 0.8, 'max_depth': 3, 'subsample': 0.9, 'n_estimators': 633, 'score': 0.8603351955307262, 'cross_validation_score': 0.8058565061829139, 'cross_validation_error_margin': 0.02703554758362565}\n",
      "El promedio de precision en cross validation es: 0.8059 (+/- 0.0541)\n",
      "para los siguientes hiperparametros\n",
      "{'colsample_bytree': 1.0, 'learning_rate': 0.8, 'max_depth': 7, 'subsample': 0.8, 'n_estimators': 152, 'score': 0.8547486033519553, 'cross_validation_score': 0.7946079969870065, 'cross_validation_error_margin': 0.009883074572307159}\n",
      "El promedio de precision en cross validation es: 0.7946 (+/- 0.0198)\n",
      "para los siguientes hiperparametros\n",
      "{'colsample_bytree': 0.3, 'learning_rate': 0.8, 'max_depth': 13, 'subsample': 0.5, 'n_estimators': 56, 'score': 0.88268156424581, 'cross_validation_score': 0.8204318624066286, 'cross_validation_error_margin': 0.02096920555507386}\n",
      "El promedio de precision en cross validation es: 0.8204 (+/- 0.0419)\n",
      "para los siguientes hiperparametros\n",
      "{'colsample_bytree': 0.8, 'learning_rate': 0.2, 'max_depth': 5, 'subsample': 0.5, 'n_estimators': 680, 'score': 0.8770949720670391, 'cross_validation_score': 0.8170924612390935, 'cross_validation_error_margin': 0.025491422617056263}\n",
      "El promedio de precision en cross validation es: 0.8171 (+/- 0.0510)\n",
      "para los siguientes hiperparametros\n",
      "{'colsample_bytree': 0.8, 'learning_rate': 0.8, 'max_depth': 4, 'subsample': 0.5, 'n_estimators': 235, 'score': 0.8435754189944135, 'cross_validation_score': 0.7957315924926244, 'cross_validation_error_margin': 0.027221782708478175}\n",
      "El promedio de precision en cross validation es: 0.7957 (+/- 0.0544)\n",
      "para los siguientes hiperparametros\n",
      "{'colsample_bytree': 0.9, 'learning_rate': 0.8, 'max_depth': 7, 'subsample': 1.0, 'n_estimators': 1663, 'score': 0.8491620111731844, 'cross_validation_score': 0.8069738246186681, 'cross_validation_error_margin': 0.017435530764855867}\n",
      "El promedio de precision en cross validation es: 0.8070 (+/- 0.0349)\n",
      "para los siguientes hiperparametros\n",
      "{'colsample_bytree': 0.3, 'learning_rate': 0.8, 'max_depth': 7, 'subsample': 1.0, 'n_estimators': 1292, 'score': 0.88268156424581, 'cross_validation_score': 0.8035967610319503, 'cross_validation_error_margin': 0.02241990103743537}\n",
      "El promedio de precision en cross validation es: 0.8036 (+/- 0.0448)\n",
      "para los siguientes hiperparametros\n",
      "{'colsample_bytree': 0.8, 'learning_rate': 0.2, 'max_depth': 5, 'subsample': 0.5, 'n_estimators': 856, 'score': 0.8547486033519553, 'cross_validation_score': 0.8114682066411399, 'cross_validation_error_margin': 0.015038685672001716}\n",
      "El promedio de precision en cross validation es: 0.8115 (+/- 0.0301)\n",
      "para los siguientes hiperparametros\n",
      "{'colsample_bytree': 0.3, 'learning_rate': 0.8, 'max_depth': 4, 'subsample': 0.5, 'n_estimators': 211, 'score': 0.8324022346368715, 'cross_validation_score': 0.8103383340656581, 'cross_validation_error_margin': 0.02101265427218969}\n",
      "El promedio de precision en cross validation es: 0.8103 (+/- 0.0420)\n",
      "para los siguientes hiperparametros\n",
      "{'colsample_bytree': 0.8, 'learning_rate': 0.8, 'max_depth': 3, 'subsample': 0.8, 'n_estimators': 379, 'score': 0.8659217877094972, 'cross_validation_score': 0.7935157868307074, 'cross_validation_error_margin': 0.0273979898484154}\n",
      "El promedio de precision en cross validation es: 0.7935 (+/- 0.0548)\n",
      "para los siguientes hiperparametros\n",
      "{'colsample_bytree': 0.9, 'learning_rate': 0.8, 'max_depth': 7, 'subsample': 0.5, 'n_estimators': 181, 'score': 0.888268156424581, 'cross_validation_score': 0.7946456594061893, 'cross_validation_error_margin': 0.022004975473015748}\n",
      "El promedio de precision en cross validation es: 0.7946 (+/- 0.0440)\n",
      "para los siguientes hiperparametros\n",
      "{'colsample_bytree': 0.9, 'learning_rate': 0.8, 'max_depth': 3, 'subsample': 0.5, 'n_estimators': 276, 'score': 0.8770949720670391, 'cross_validation_score': 0.8159625886636119, 'cross_validation_error_margin': 0.01724231683791952}\n",
      "El promedio de precision en cross validation es: 0.8160 (+/- 0.0345)\n",
      "para los siguientes hiperparametros\n",
      "{'colsample_bytree': 0.9, 'learning_rate': 0.2, 'max_depth': 9, 'subsample': 0.5, 'n_estimators': 451, 'score': 0.8715083798882681, 'cross_validation_score': 0.818234887954303, 'cross_validation_error_margin': 0.0276712975776704}\n",
      "El promedio de precision en cross validation es: 0.8182 (+/- 0.0553)\n",
      "para los siguientes hiperparametros\n",
      "{'colsample_bytree': 0.9, 'learning_rate': 0.8, 'max_depth': 3, 'subsample': 0.5, 'n_estimators': 395, 'score': 0.8715083798882681, 'cross_validation_score': 0.7991400414286611, 'cross_validation_error_margin': 0.02705212771115703}\n",
      "El promedio de precision en cross validation es: 0.7991 (+/- 0.0541)\n",
      "para los siguientes hiperparametros\n",
      "{'colsample_bytree': 0.8, 'learning_rate': 0.008, 'max_depth': 12, 'subsample': 1.0, 'n_estimators': 5000, 'score': 0.8770949720670391, 'cross_validation_score': 0.8047266336074321, 'cross_validation_error_margin': 0.01977092073973859}\n",
      "El promedio de precision en cross validation es: 0.8047 (+/- 0.0395)\n",
      "para los siguientes hiperparametros\n",
      "{'colsample_bytree': 0.9, 'learning_rate': 0.1, 'max_depth': 4, 'subsample': 0.5, 'n_estimators': 1043, 'score': 0.8603351955307262, 'cross_validation_score': 0.8126043562864854, 'cross_validation_error_margin': 0.021728976532580047}\n",
      "El promedio de precision en cross validation es: 0.8126 (+/- 0.0435)\n",
      "para los siguientes hiperparametros\n",
      "{'colsample_bytree': 1.0, 'learning_rate': 0.2, 'max_depth': 3, 'subsample': 0.8, 'n_estimators': 1024, 'score': 0.8379888268156425, 'cross_validation_score': 0.8069863787583955, 'cross_validation_error_margin': 0.01798340968904702}\n",
      "El promedio de precision en cross validation es: 0.8070 (+/- 0.0360)\n",
      "para los siguientes hiperparametros\n",
      "{'colsample_bytree': 1.0, 'learning_rate': 0.1, 'max_depth': 9, 'subsample': 1.0, 'n_estimators': 2900, 'score': 0.8491620111731844, 'cross_validation_score': 0.7968614650681063, 'cross_validation_error_margin': 0.019863099018418543}\n",
      "El promedio de precision en cross validation es: 0.7969 (+/- 0.0397)\n",
      "para los siguientes hiperparametros\n",
      "{'colsample_bytree': 0.9, 'learning_rate': 0.8, 'max_depth': 7, 'subsample': 1.0, 'n_estimators': 1514, 'score': 0.8100558659217877, 'cross_validation_score': 0.808097420124286, 'cross_validation_error_margin': 0.017708064667267483}\n",
      "El promedio de precision en cross validation es: 0.8081 (+/- 0.0354)\n",
      "para los siguientes hiperparametros\n",
      "{'colsample_bytree': 1.0, 'learning_rate': 0.1, 'max_depth': 3, 'subsample': 1.0, 'n_estimators': 5000, 'score': 0.8715083798882681, 'cross_validation_score': 0.80585022911305, 'cross_validation_error_margin': 0.016711382633444936}\n",
      "El promedio de precision en cross validation es: 0.8059 (+/- 0.0334)\n",
      "para los siguientes hiperparametros\n",
      "{'colsample_bytree': 1.0, 'learning_rate': 0.2, 'max_depth': 5, 'subsample': 0.9, 'n_estimators': 912, 'score': 0.8603351955307262, 'cross_validation_score': 0.8103634423451134, 'cross_validation_error_margin': 0.02563041772349621}\n",
      "El promedio de precision en cross validation es: 0.8104 (+/- 0.0513)\n",
      "para los siguientes hiperparametros\n",
      "{'colsample_bytree': 1.0, 'learning_rate': 0.8, 'max_depth': 5, 'subsample': 0.5, 'n_estimators': 341, 'score': 0.8938547486033519, 'cross_validation_score': 0.7856317870817902, 'cross_validation_error_margin': 0.013970808838555084}\n",
      "El promedio de precision en cross validation es: 0.7856 (+/- 0.0279)\n",
      "para los siguientes hiperparametros\n",
      "{'colsample_bytree': 0.3, 'learning_rate': 0.1, 'max_depth': 4, 'subsample': 0.5, 'n_estimators': 629, 'score': 0.8547486033519553, 'cross_validation_score': 0.8282970309459545, 'cross_validation_error_margin': 0.017826308163182276}\n",
      "El promedio de precision en cross validation es: 0.8283 (+/- 0.0357)\n",
      "para los siguientes hiperparametros\n",
      "{'colsample_bytree': 1.0, 'learning_rate': 0.8, 'max_depth': 5, 'subsample': 0.8, 'n_estimators': 405, 'score': 0.8938547486033519, 'cross_validation_score': 0.7901512773837174, 'cross_validation_error_margin': 0.016104182094093006}\n",
      "El promedio de precision en cross validation es: 0.7902 (+/- 0.0322)\n",
      "para los siguientes hiperparametros\n",
      "{'colsample_bytree': 0.9, 'learning_rate': 0.008, 'max_depth': 7, 'subsample': 1.0, 'n_estimators': 5000, 'score': 0.8603351955307262, 'cross_validation_score': 0.8047140794677045, 'cross_validation_error_margin': 0.01717895838061669}\n",
      "El promedio de precision en cross validation es: 0.8047 (+/- 0.0344)\n",
      "para los siguientes hiperparametros\n",
      "{'colsample_bytree': 0.8, 'learning_rate': 0.1, 'max_depth': 3, 'subsample': 0.5, 'n_estimators': 911, 'score': 0.8770949720670391, 'cross_validation_score': 0.8260561170045821, 'cross_validation_error_margin': 0.018613945542466738}\n",
      "El promedio de precision en cross validation es: 0.8261 (+/- 0.0372)\n",
      "para los siguientes hiperparametros\n",
      "{'colsample_bytree': 0.8, 'learning_rate': 0.008, 'max_depth': 12, 'subsample': 0.9, 'n_estimators': 5000, 'score': 0.8715083798882681, 'cross_validation_score': 0.8092272926997677, 'cross_validation_error_margin': 0.02076946305953912}\n",
      "El promedio de precision en cross validation es: 0.8092 (+/- 0.0415)\n",
      "para los siguientes hiperparametros\n",
      "{'colsample_bytree': 0.3, 'learning_rate': 0.2, 'max_depth': 5, 'subsample': 1.0, 'n_estimators': 1142, 'score': 0.8603351955307262, 'cross_validation_score': 0.8226790534178645, 'cross_validation_error_margin': 0.02714256398132652}\n",
      "El promedio de precision en cross validation es: 0.8227 (+/- 0.0543)\n",
      "para los siguientes hiperparametros\n",
      "{'colsample_bytree': 0.3, 'learning_rate': 0.2, 'max_depth': 12, 'subsample': 0.8, 'n_estimators': 456, 'score': 0.8324022346368715, 'cross_validation_score': 0.8193145439708743, 'cross_validation_error_margin': 0.027767255501301897}\n",
      "El promedio de precision en cross validation es: 0.8193 (+/- 0.0555)\n",
      "para los siguientes hiperparametros\n",
      "{'colsample_bytree': 0.3, 'learning_rate': 0.8, 'max_depth': 4, 'subsample': 0.8, 'n_estimators': 458, 'score': 0.8435754189944135, 'cross_validation_score': 0.8036030381018142, 'cross_validation_error_margin': 0.02264084890534376}\n",
      "El promedio de precision en cross validation es: 0.8036 (+/- 0.0453)\n",
      "para los siguientes hiperparametros\n",
      "{'colsample_bytree': 0.8, 'learning_rate': 0.2, 'max_depth': 4, 'subsample': 0.8, 'n_estimators': 1541, 'score': 0.8324022346368715, 'cross_validation_score': 0.804758018956751, 'cross_validation_error_margin': 0.02604528223203285}\n",
      "El promedio de precision en cross validation es: 0.8048 (+/- 0.0521)\n",
      "para los siguientes hiperparametros\n",
      "{'colsample_bytree': 1.0, 'learning_rate': 0.2, 'max_depth': 5, 'subsample': 0.9, 'n_estimators': 755, 'score': 0.8603351955307262, 'cross_validation_score': 0.8069863787583955, 'cross_validation_error_margin': 0.0229215558303379}\n",
      "El promedio de precision en cross validation es: 0.8070 (+/- 0.0458)\n",
      "para los siguientes hiperparametros\n",
      "{'colsample_bytree': 0.3, 'learning_rate': 0.009, 'max_depth': 3, 'subsample': 1.0, 'n_estimators': 4999, 'score': 0.8603351955307262, 'cross_validation_score': 0.8316427091833531, 'cross_validation_error_margin': 0.014288897158751259}\n",
      "El promedio de precision en cross validation es: 0.8316 (+/- 0.0286)\n",
      "para los siguientes hiperparametros\n",
      "{'colsample_bytree': 0.9, 'learning_rate': 0.8, 'max_depth': 3, 'subsample': 0.5, 'n_estimators': 266, 'score': 0.88268156424581, 'cross_validation_score': 0.8136902893729208, 'cross_validation_error_margin': 0.025976805564599706}\n",
      "El promedio de precision en cross validation es: 0.8137 (+/- 0.0520)\n",
      "para los siguientes hiperparametros\n",
      "{'colsample_bytree': 0.8, 'learning_rate': 0.2, 'max_depth': 12, 'subsample': 0.5, 'n_estimators': 509, 'score': 0.8770949720670391, 'cross_validation_score': 0.8024982738057874, 'cross_validation_error_margin': 0.025211477395602117}\n",
      "El promedio de precision en cross validation es: 0.8025 (+/- 0.0504)\n",
      "para los siguientes hiperparametros\n",
      "{'colsample_bytree': 0.3, 'learning_rate': 0.8, 'max_depth': 9, 'subsample': 0.5, 'n_estimators': 152, 'score': 0.88268156424581, 'cross_validation_score': 0.8091959073504489, 'cross_validation_error_margin': 0.028021929619830882}\n",
      "El promedio de precision en cross validation es: 0.8092 (+/- 0.0560)\n",
      "para los siguientes hiperparametros\n",
      "{'colsample_bytree': 0.9, 'learning_rate': 0.8, 'max_depth': 4, 'subsample': 0.5, 'n_estimators': 267, 'score': 0.8491620111731844, 'cross_validation_score': 0.8069361621994853, 'cross_validation_error_margin': 0.011891454510337861}\n",
      "El promedio de precision en cross validation es: 0.8069 (+/- 0.0238)\n",
      "para los siguientes hiperparametros\n",
      "{'colsample_bytree': 0.9, 'learning_rate': 0.01, 'max_depth': 7, 'subsample': 1.0, 'n_estimators': 5000, 'score': 0.8715083798882681, 'cross_validation_score': 0.8002385286548239, 'cross_validation_error_margin': 0.01949641529930883}\n",
      "El promedio de precision en cross validation es: 0.8002 (+/- 0.0390)\n",
      "para los siguientes hiperparametros\n",
      "{'colsample_bytree': 1.0, 'learning_rate': 0.8, 'max_depth': 4, 'subsample': 0.9, 'n_estimators': 308, 'score': 0.8938547486033519, 'cross_validation_score': 0.8002510827945516, 'cross_validation_error_margin': 0.027895220788055612}\n",
      "El promedio de precision en cross validation es: 0.8003 (+/- 0.0558)\n",
      "para los siguientes hiperparametros\n",
      "{'colsample_bytree': 0.3, 'learning_rate': 0.2, 'max_depth': 4, 'subsample': 0.9, 'n_estimators': 997, 'score': 0.9050279329608939, 'cross_validation_score': 0.8170610758897746, 'cross_validation_error_margin': 0.028983505329253072}\n",
      "El promedio de precision en cross validation es: 0.8171 (+/- 0.0580)\n",
      "para los siguientes hiperparametros\n",
      "{'colsample_bytree': 0.3, 'learning_rate': 0.2, 'max_depth': 3, 'subsample': 0.9, 'n_estimators': 873, 'score': 0.8603351955307262, 'cross_validation_score': 0.8215554579122465, 'cross_validation_error_margin': 0.01673831731823461}\n",
      "El promedio de precision en cross validation es: 0.8216 (+/- 0.0335)\n",
      "para los siguientes hiperparametros\n",
      "{'colsample_bytree': 1.0, 'learning_rate': 0.8, 'max_depth': 4, 'subsample': 0.5, 'n_estimators': 225, 'score': 0.8547486033519553, 'cross_validation_score': 0.7979976147134519, 'cross_validation_error_margin': 0.01753865890176126}\n",
      "El promedio de precision en cross validation es: 0.7980 (+/- 0.0351)\n",
      "para los siguientes hiperparametros\n",
      "{'colsample_bytree': 1.0, 'learning_rate': 0.8, 'max_depth': 7, 'subsample': 0.9, 'n_estimators': 538, 'score': 0.8715083798882681, 'cross_validation_score': 0.8025045508756513, 'cross_validation_error_margin': 0.02043971061141665}\n",
      "El promedio de precision en cross validation es: 0.8025 (+/- 0.0409)\n",
      "para los siguientes hiperparametros\n",
      "{'colsample_bytree': 1.0, 'learning_rate': 0.01, 'max_depth': 3, 'subsample': 0.8, 'n_estimators': 4994, 'score': 0.8435754189944135, 'cross_validation_score': 0.8260435628648548, 'cross_validation_error_margin': 0.01222294924361156}\n",
      "El promedio de precision en cross validation es: 0.8260 (+/- 0.0244)\n",
      "para los siguientes hiperparametros\n",
      "{'colsample_bytree': 1.0, 'learning_rate': 0.2, 'max_depth': 14, 'subsample': 0.5, 'n_estimators': 616, 'score': 0.9162011173184358, 'cross_validation_score': 0.8058690603226415, 'cross_validation_error_margin': 0.02144074328837927}\n",
      "El promedio de precision en cross validation es: 0.8059 (+/- 0.0429)\n",
      "para los siguientes hiperparametros\n",
      "{'colsample_bytree': 0.3, 'learning_rate': 0.8, 'max_depth': 4, 'subsample': 0.9, 'n_estimators': 301, 'score': 0.8435754189944135, 'cross_validation_score': 0.8125729709371665, 'cross_validation_error_margin': 0.028313818659707994}\n",
      "El promedio de precision en cross validation es: 0.8126 (+/- 0.0566)\n",
      "para los siguientes hiperparametros\n",
      "{'colsample_bytree': 0.8, 'learning_rate': 0.2, 'max_depth': 4, 'subsample': 0.5, 'n_estimators': 907, 'score': 0.8715083798882681, 'cross_validation_score': 0.8047329106772958, 'cross_validation_error_margin': 0.019699387467860808}\n",
      "El promedio de precision en cross validation es: 0.8047 (+/- 0.0394)\n",
      "para los siguientes hiperparametros\n",
      "{'colsample_bytree': 1.0, 'learning_rate': 0.2, 'max_depth': 3, 'subsample': 0.5, 'n_estimators': 907, 'score': 0.8156424581005587, 'cross_validation_score': 0.8125855250768941, 'cross_validation_error_margin': 0.013803897472666625}\n",
      "El promedio de precision en cross validation es: 0.8126 (+/- 0.0276)\n",
      "para los siguientes hiperparametros\n",
      "{'colsample_bytree': 1.0, 'learning_rate': 0.2, 'max_depth': 5, 'subsample': 0.5, 'n_estimators': 817, 'score': 0.8603351955307262, 'cross_validation_score': 0.8047517418868871, 'cross_validation_error_margin': 0.017406983624639907}\n",
      "El promedio de precision en cross validation es: 0.8048 (+/- 0.0348)\n",
      "para los siguientes hiperparametros\n",
      "{'colsample_bytree': 0.8, 'learning_rate': 0.8, 'max_depth': 5, 'subsample': 0.9, 'n_estimators': 589, 'score': 0.8547486033519553, 'cross_validation_score': 0.8002636369342792, 'cross_validation_error_margin': 0.02731986042194852}\n",
      "El promedio de precision en cross validation es: 0.8003 (+/- 0.0546)\n",
      "para los siguientes hiperparametros\n",
      "{'colsample_bytree': 0.9, 'learning_rate': 0.8, 'max_depth': 4, 'subsample': 0.5, 'n_estimators': 240, 'score': 0.8603351955307262, 'cross_validation_score': 0.811436821291821, 'cross_validation_error_margin': 0.019428398235689103}\n",
      "El promedio de precision en cross validation es: 0.8114 (+/- 0.0389)\n",
      "para los siguientes hiperparametros\n",
      "{'colsample_bytree': 0.8, 'learning_rate': 0.8, 'max_depth': 13, 'subsample': 0.9, 'n_estimators': 386, 'score': 0.88268156424581, 'cross_validation_score': 0.7957755319816711, 'cross_validation_error_margin': 0.0323778054129134}\n",
      "El promedio de precision en cross validation es: 0.7958 (+/- 0.0648)\n"
     ]
    }
   ],
   "source": [
    "\n",
    "params_and_results=[]\n",
    "cv=StratifiedKFold(n_splits=5,shuffle=False,random_state=None)\n",
    "for setOfParams in params:\n",
    "    tunedModel= XGBClassifier(\n",
    "    objective=\"binary:logistic\",\n",
    "    eval_metric=\"logloss\",       # modela conteos\n",
    "    tree_method=\"hist\",         # rápido y eficiente en CPU\n",
    "    n_estimators=setOfParams[\"n_estimators\"],\n",
    "    learning_rate=setOfParams[\"learning_rate\"],\n",
    "    max_depth=setOfParams[\"max_depth\"],\n",
    "    colsample_bytree=setOfParams[\"colsample_bytree\"],\n",
    "    subsample=setOfParams[\"subsample\"],\n",
    "    enable_categorical=True,\n",
    "    verbosity=0\n",
    "    )\n",
    "    pipeline = Pipeline([('pre-processor', data_preprocessor), ('nosie remover', NoiseRemover()),('rfb', tunedModel)])\n",
    "    final_score_raw=cross_val_score(pipeline,dfcv,y,cv=cv,scoring=\"accuracy\")\n",
    "    setOfParams[\"cross_validation_score\"] = final_score_raw.mean()\n",
    "    setOfParams[\"cross_validation_error_margin\"] = final_score_raw.std()\n",
    "    params_and_results.append(setOfParams)\n",
    "    print(\"para los siguientes hiperparametros\")\n",
    "    print(setOfParams)\n",
    "    print(f\"El promedio de precision en cross validation es: {final_score_raw.mean():.4f} (+/- {final_score_raw.std() * 2:.4f})\")\n",
    "\n",
    "\n",
    "\n",
    "params_and_results.sort(key=lambda x : x[\"cross_validation_score\"])    \n",
    "paramsFileContent=pd.DataFrame(params_and_results)\n",
    "paramsFileContent.to_csv(\"params_with_results.csv\", index=False)\n",
    " \n",
    "    "
   ]
  }
 ],
 "metadata": {
  "kernelspec": {
   "display_name": "deadlyAliance",
   "language": "python",
   "name": "python3"
  },
  "language_info": {
   "codemirror_mode": {
    "name": "ipython",
    "version": 3
   },
   "file_extension": ".py",
   "mimetype": "text/x-python",
   "name": "python",
   "nbconvert_exporter": "python",
   "pygments_lexer": "ipython3",
   "version": "3.11.5"
  }
 },
 "nbformat": 4,
 "nbformat_minor": 2
}
