{
 "cells": [
  {
   "cell_type": "code",
   "execution_count": 1,
   "metadata": {},
   "outputs": [],
   "source": [
    "import sys\n",
    "from pathlib import Path\n",
    "project_root = Path().resolve().parent\n",
    "sys.path.append(str(project_root))\n",
    "\n",
    "import pandas as pd\n",
    "import numpy as np\n",
    "import re\n",
    "import sklearn as skt\n",
    "from sklearn.model_selection import train_test_split, cross_val_score, StratifiedKFold\n",
    "from sklearn.linear_model import LogisticRegression\n",
    "from sklearn.pipeline import Pipeline\n",
    "from xgboost import XGBRegressor, XGBClassifier\n",
    "from sklearn.preprocessing import FunctionTransformer\n",
    "from sklearn.base import BaseEstimator, ClassifierMixin\n",
    "from sklearn.base import clone\n",
    "from sklearn.model_selection import GridSearchCV\n",
    "from noise_remover import NoiseRemover\n",
    "from titanic_preprocessor import TitanicPreprocessor\n",
    "from sklearn.model_selection import PredefinedSplit, GridSearchCV\n",
    "from xgboost.callback import EarlyStopping\n",
    "\n",
    "from utils import load_config, load_datasets\n",
    "\n",
    "load_config()\n",
    "dataset, dt = load_datasets()\n",
    "\n",
    "model= XGBClassifier(\n",
    "    objective=\"binary:logistic\",\n",
    "    eval_metric=\"logloss\",       # modela conteos\n",
    "    tree_method=\"hist\",         # rápido y eficiente en CPU\n",
    "    n_estimators=5000,\n",
    "    learning_rate=0.1,\n",
    "    callbacks= [EarlyStopping(rounds=50, save_best=True)],\n",
    "    max_depth=3,\n",
    "    enable_categorical=True,\n",
    "    verbosity=0\n",
    ")\n",
    "\n",
    "def generate_predefined_split(y, prep):\n",
    "    X_train, X_eval, y_train, y_eval = train_test_split(df, y, test_size=0.2, stratify=y)\n",
    "    X_train_preprocessed = prep.fit_transform(X_train, y_train)  \n",
    "    X_eval_preprocessed  = prep.transform(X_eval)   \n",
    "    X_preprocessed = pd.concat([X_train_preprocessed, X_eval_preprocessed], axis=0)\n",
    "    y_all   = pd.concat([y_train, y_eval], axis=0)\n",
    "    test_fold = np.r_[[-1]*len(X_train_preprocessed), [0]*len(X_eval_preprocessed)]\n",
    "    return X_preprocessed, X_eval_preprocessed, y_all, y_eval, test_fold\n"
   ]
  },
  {
   "cell_type": "code",
   "execution_count": 4,
   "metadata": {},
   "outputs": [
    {
     "name": "stderr",
     "output_type": "stream",
     "text": [
      "/Users/dreamcast/Documents/matenme/matenme/lib/python3.11/site-packages/sklearn/pipeline.py:61: FutureWarning: This Pipeline instance is not fitted yet. Call 'fit' with appropriate arguments before using other methods such as transform, predict, etc. This will raise an error in 1.8 instead of the current warning.\n",
      "  warnings.warn(\n"
     ]
    },
    {
     "name": "stdout",
     "output_type": "stream",
     "text": [
      "Starting grid search...\n",
      "Best params: {'colsample_bytree': 0.3, 'learning_rate': 0.8, 'max_depth': 3, 'subsample': 0.5}\n",
      "Best (hold-out) score: 0.8268156424581006\n",
      "Best n_estimators (ES): 208\n",
      "Starting grid search...\n"
     ]
    },
    {
     "name": "stderr",
     "output_type": "stream",
     "text": [
      "/Users/dreamcast/Documents/matenme/matenme/lib/python3.11/site-packages/sklearn/pipeline.py:61: FutureWarning: This Pipeline instance is not fitted yet. Call 'fit' with appropriate arguments before using other methods such as transform, predict, etc. This will raise an error in 1.8 instead of the current warning.\n",
      "  warnings.warn(\n"
     ]
    },
    {
     "name": "stdout",
     "output_type": "stream",
     "text": [
      "Best params: {'colsample_bytree': 0.9, 'learning_rate': 0.8, 'max_depth': 7, 'subsample': 0.8}\n",
      "Best (hold-out) score: 0.8547486033519553\n",
      "Best n_estimators (ES): 275\n",
      "Starting grid search...\n"
     ]
    },
    {
     "name": "stderr",
     "output_type": "stream",
     "text": [
      "/Users/dreamcast/Documents/matenme/matenme/lib/python3.11/site-packages/sklearn/pipeline.py:61: FutureWarning: This Pipeline instance is not fitted yet. Call 'fit' with appropriate arguments before using other methods such as transform, predict, etc. This will raise an error in 1.8 instead of the current warning.\n",
      "  warnings.warn(\n"
     ]
    },
    {
     "name": "stdout",
     "output_type": "stream",
     "text": [
      "Best params: {'colsample_bytree': 0.8, 'learning_rate': 0.1, 'max_depth': 4, 'subsample': 1.0}\n",
      "Best (hold-out) score: 0.8938547486033519\n",
      "Best n_estimators (ES): 4124\n",
      "Starting grid search...\n"
     ]
    },
    {
     "name": "stderr",
     "output_type": "stream",
     "text": [
      "/Users/dreamcast/Documents/matenme/matenme/lib/python3.11/site-packages/sklearn/pipeline.py:61: FutureWarning: This Pipeline instance is not fitted yet. Call 'fit' with appropriate arguments before using other methods such as transform, predict, etc. This will raise an error in 1.8 instead of the current warning.\n",
      "  warnings.warn(\n"
     ]
    },
    {
     "name": "stdout",
     "output_type": "stream",
     "text": [
      "Best params: {'colsample_bytree': 0.3, 'learning_rate': 0.2, 'max_depth': 13, 'subsample': 0.5}\n",
      "Best (hold-out) score: 0.8268156424581006\n",
      "Best n_estimators (ES): 189\n",
      "Starting grid search...\n"
     ]
    },
    {
     "name": "stderr",
     "output_type": "stream",
     "text": [
      "/Users/dreamcast/Documents/matenme/matenme/lib/python3.11/site-packages/sklearn/pipeline.py:61: FutureWarning: This Pipeline instance is not fitted yet. Call 'fit' with appropriate arguments before using other methods such as transform, predict, etc. This will raise an error in 1.8 instead of the current warning.\n",
      "  warnings.warn(\n"
     ]
    },
    {
     "name": "stdout",
     "output_type": "stream",
     "text": [
      "Best params: {'colsample_bytree': 0.3, 'learning_rate': 0.2, 'max_depth': 3, 'subsample': 0.5}\n",
      "Best (hold-out) score: 0.8268156424581006\n",
      "Best n_estimators (ES): 290\n",
      "Starting grid search...\n"
     ]
    },
    {
     "name": "stderr",
     "output_type": "stream",
     "text": [
      "/Users/dreamcast/Documents/matenme/matenme/lib/python3.11/site-packages/sklearn/pipeline.py:61: FutureWarning: This Pipeline instance is not fitted yet. Call 'fit' with appropriate arguments before using other methods such as transform, predict, etc. This will raise an error in 1.8 instead of the current warning.\n",
      "  warnings.warn(\n"
     ]
    },
    {
     "name": "stdout",
     "output_type": "stream",
     "text": [
      "Best params: {'colsample_bytree': 0.3, 'learning_rate': 0.2, 'max_depth': 4, 'subsample': 1.0}\n",
      "Best (hold-out) score: 0.8435754189944135\n",
      "Best n_estimators (ES): 1850\n",
      "Starting grid search...\n"
     ]
    },
    {
     "name": "stderr",
     "output_type": "stream",
     "text": [
      "/Users/dreamcast/Documents/matenme/matenme/lib/python3.11/site-packages/sklearn/pipeline.py:61: FutureWarning: This Pipeline instance is not fitted yet. Call 'fit' with appropriate arguments before using other methods such as transform, predict, etc. This will raise an error in 1.8 instead of the current warning.\n",
      "  warnings.warn(\n"
     ]
    },
    {
     "name": "stdout",
     "output_type": "stream",
     "text": [
      "Best params: {'colsample_bytree': 0.9, 'learning_rate': 0.8, 'max_depth': 5, 'subsample': 0.5}\n",
      "Best (hold-out) score: 0.8770949720670391\n",
      "Best n_estimators (ES): 323\n",
      "Starting grid search...\n"
     ]
    },
    {
     "name": "stderr",
     "output_type": "stream",
     "text": [
      "/Users/dreamcast/Documents/matenme/matenme/lib/python3.11/site-packages/sklearn/pipeline.py:61: FutureWarning: This Pipeline instance is not fitted yet. Call 'fit' with appropriate arguments before using other methods such as transform, predict, etc. This will raise an error in 1.8 instead of the current warning.\n",
      "  warnings.warn(\n"
     ]
    },
    {
     "name": "stdout",
     "output_type": "stream",
     "text": [
      "Best params: {'colsample_bytree': 0.9, 'learning_rate': 0.009, 'max_depth': 7, 'subsample': 0.5}\n",
      "Best (hold-out) score: 0.8547486033519553\n",
      "Best n_estimators (ES): 4999\n",
      "Starting grid search...\n"
     ]
    },
    {
     "name": "stderr",
     "output_type": "stream",
     "text": [
      "/Users/dreamcast/Documents/matenme/matenme/lib/python3.11/site-packages/sklearn/pipeline.py:61: FutureWarning: This Pipeline instance is not fitted yet. Call 'fit' with appropriate arguments before using other methods such as transform, predict, etc. This will raise an error in 1.8 instead of the current warning.\n",
      "  warnings.warn(\n"
     ]
    },
    {
     "name": "stdout",
     "output_type": "stream",
     "text": [
      "Best params: {'colsample_bytree': 0.8, 'learning_rate': 0.8, 'max_depth': 5, 'subsample': 0.8}\n",
      "Best (hold-out) score: 0.8770949720670391\n",
      "Best n_estimators (ES): 253\n",
      "Starting grid search...\n"
     ]
    },
    {
     "name": "stderr",
     "output_type": "stream",
     "text": [
      "/Users/dreamcast/Documents/matenme/matenme/lib/python3.11/site-packages/sklearn/pipeline.py:61: FutureWarning: This Pipeline instance is not fitted yet. Call 'fit' with appropriate arguments before using other methods such as transform, predict, etc. This will raise an error in 1.8 instead of the current warning.\n",
      "  warnings.warn(\n"
     ]
    },
    {
     "name": "stdout",
     "output_type": "stream",
     "text": [
      "Best params: {'colsample_bytree': 0.8, 'learning_rate': 0.8, 'max_depth': 9, 'subsample': 0.5}\n",
      "Best (hold-out) score: 0.8770949720670391\n",
      "Best n_estimators (ES): 191\n",
      "Starting grid search...\n"
     ]
    },
    {
     "name": "stderr",
     "output_type": "stream",
     "text": [
      "/Users/dreamcast/Documents/matenme/matenme/lib/python3.11/site-packages/sklearn/pipeline.py:61: FutureWarning: This Pipeline instance is not fitted yet. Call 'fit' with appropriate arguments before using other methods such as transform, predict, etc. This will raise an error in 1.8 instead of the current warning.\n",
      "  warnings.warn(\n"
     ]
    },
    {
     "name": "stdout",
     "output_type": "stream",
     "text": [
      "Best params: {'colsample_bytree': 0.3, 'learning_rate': 0.8, 'max_depth': 3, 'subsample': 0.8}\n",
      "Best (hold-out) score: 0.8715083798882681\n",
      "Best n_estimators (ES): 458\n",
      "Starting grid search...\n"
     ]
    },
    {
     "name": "stderr",
     "output_type": "stream",
     "text": [
      "/Users/dreamcast/Documents/matenme/matenme/lib/python3.11/site-packages/sklearn/pipeline.py:61: FutureWarning: This Pipeline instance is not fitted yet. Call 'fit' with appropriate arguments before using other methods such as transform, predict, etc. This will raise an error in 1.8 instead of the current warning.\n",
      "  warnings.warn(\n"
     ]
    },
    {
     "name": "stdout",
     "output_type": "stream",
     "text": [
      "Best params: {'colsample_bytree': 0.3, 'learning_rate': 0.01, 'max_depth': 14, 'subsample': 1.0}\n",
      "Best (hold-out) score: 0.8659217877094972\n",
      "Best n_estimators (ES): 4999\n",
      "Starting grid search...\n"
     ]
    },
    {
     "name": "stderr",
     "output_type": "stream",
     "text": [
      "/Users/dreamcast/Documents/matenme/matenme/lib/python3.11/site-packages/sklearn/pipeline.py:61: FutureWarning: This Pipeline instance is not fitted yet. Call 'fit' with appropriate arguments before using other methods such as transform, predict, etc. This will raise an error in 1.8 instead of the current warning.\n",
      "  warnings.warn(\n"
     ]
    },
    {
     "name": "stdout",
     "output_type": "stream",
     "text": [
      "Best params: {'colsample_bytree': 0.8, 'learning_rate': 0.8, 'max_depth': 3, 'subsample': 0.8}\n",
      "Best (hold-out) score: 0.88268156424581\n",
      "Best n_estimators (ES): 654\n",
      "Starting grid search...\n"
     ]
    },
    {
     "name": "stderr",
     "output_type": "stream",
     "text": [
      "/Users/dreamcast/Documents/matenme/matenme/lib/python3.11/site-packages/sklearn/pipeline.py:61: FutureWarning: This Pipeline instance is not fitted yet. Call 'fit' with appropriate arguments before using other methods such as transform, predict, etc. This will raise an error in 1.8 instead of the current warning.\n",
      "  warnings.warn(\n"
     ]
    },
    {
     "name": "stdout",
     "output_type": "stream",
     "text": [
      "Best params: {'colsample_bytree': 0.9, 'learning_rate': 0.8, 'max_depth': 3, 'subsample': 0.5}\n",
      "Best (hold-out) score: 0.8659217877094972\n",
      "Best n_estimators (ES): 605\n",
      "Starting grid search...\n"
     ]
    },
    {
     "name": "stderr",
     "output_type": "stream",
     "text": [
      "/Users/dreamcast/Documents/matenme/matenme/lib/python3.11/site-packages/sklearn/pipeline.py:61: FutureWarning: This Pipeline instance is not fitted yet. Call 'fit' with appropriate arguments before using other methods such as transform, predict, etc. This will raise an error in 1.8 instead of the current warning.\n",
      "  warnings.warn(\n"
     ]
    },
    {
     "name": "stdout",
     "output_type": "stream",
     "text": [
      "Best params: {'colsample_bytree': 0.8, 'learning_rate': 0.1, 'max_depth': 12, 'subsample': 1.0}\n",
      "Best (hold-out) score: 0.8715083798882681\n",
      "Best n_estimators (ES): 3562\n",
      "Starting grid search...\n"
     ]
    },
    {
     "name": "stderr",
     "output_type": "stream",
     "text": [
      "/Users/dreamcast/Documents/matenme/matenme/lib/python3.11/site-packages/sklearn/pipeline.py:61: FutureWarning: This Pipeline instance is not fitted yet. Call 'fit' with appropriate arguments before using other methods such as transform, predict, etc. This will raise an error in 1.8 instead of the current warning.\n",
      "  warnings.warn(\n"
     ]
    },
    {
     "name": "stdout",
     "output_type": "stream",
     "text": [
      "Best params: {'colsample_bytree': 0.8, 'learning_rate': 0.8, 'max_depth': 5, 'subsample': 1.0}\n",
      "Best (hold-out) score: 0.8938547486033519\n",
      "Best n_estimators (ES): 1780\n",
      "Starting grid search...\n"
     ]
    },
    {
     "name": "stderr",
     "output_type": "stream",
     "text": [
      "/Users/dreamcast/Documents/matenme/matenme/lib/python3.11/site-packages/sklearn/pipeline.py:61: FutureWarning: This Pipeline instance is not fitted yet. Call 'fit' with appropriate arguments before using other methods such as transform, predict, etc. This will raise an error in 1.8 instead of the current warning.\n",
      "  warnings.warn(\n"
     ]
    },
    {
     "name": "stdout",
     "output_type": "stream",
     "text": [
      "Best params: {'colsample_bytree': 0.3, 'learning_rate': 0.8, 'max_depth': 3, 'subsample': 1.0}\n",
      "Best (hold-out) score: 0.8491620111731844\n",
      "Best n_estimators (ES): 626\n",
      "Starting grid search...\n"
     ]
    },
    {
     "name": "stderr",
     "output_type": "stream",
     "text": [
      "/Users/dreamcast/Documents/matenme/matenme/lib/python3.11/site-packages/sklearn/pipeline.py:61: FutureWarning: This Pipeline instance is not fitted yet. Call 'fit' with appropriate arguments before using other methods such as transform, predict, etc. This will raise an error in 1.8 instead of the current warning.\n",
      "  warnings.warn(\n"
     ]
    },
    {
     "name": "stdout",
     "output_type": "stream",
     "text": [
      "Best params: {'colsample_bytree': 1.0, 'learning_rate': 0.8, 'max_depth': 9, 'subsample': 0.8}\n",
      "Best (hold-out) score: 0.8659217877094972\n",
      "Best n_estimators (ES): 265\n",
      "Starting grid search...\n"
     ]
    },
    {
     "name": "stderr",
     "output_type": "stream",
     "text": [
      "/Users/dreamcast/Documents/matenme/matenme/lib/python3.11/site-packages/sklearn/pipeline.py:61: FutureWarning: This Pipeline instance is not fitted yet. Call 'fit' with appropriate arguments before using other methods such as transform, predict, etc. This will raise an error in 1.8 instead of the current warning.\n",
      "  warnings.warn(\n"
     ]
    },
    {
     "name": "stdout",
     "output_type": "stream",
     "text": [
      "Best params: {'colsample_bytree': 0.8, 'learning_rate': 0.8, 'max_depth': 4, 'subsample': 0.8}\n",
      "Best (hold-out) score: 0.8435754189944135\n",
      "Best n_estimators (ES): 450\n",
      "Starting grid search...\n"
     ]
    },
    {
     "name": "stderr",
     "output_type": "stream",
     "text": [
      "/Users/dreamcast/Documents/matenme/matenme/lib/python3.11/site-packages/sklearn/pipeline.py:61: FutureWarning: This Pipeline instance is not fitted yet. Call 'fit' with appropriate arguments before using other methods such as transform, predict, etc. This will raise an error in 1.8 instead of the current warning.\n",
      "  warnings.warn(\n"
     ]
    },
    {
     "name": "stdout",
     "output_type": "stream",
     "text": [
      "Best params: {'colsample_bytree': 0.9, 'learning_rate': 0.1, 'max_depth': 5, 'subsample': 0.5}\n",
      "Best (hold-out) score: 0.8659217877094972\n",
      "Best n_estimators (ES): 1015\n"
     ]
    },
    {
     "ename": "AttributeError",
     "evalue": "'list' object has no attribute 'to_dict'",
     "output_type": "error",
     "traceback": [
      "\u001b[31m---------------------------------------------------------------------------\u001b[39m",
      "\u001b[31mAttributeError\u001b[39m                            Traceback (most recent call last)",
      "\u001b[36mCell\u001b[39m\u001b[36m \u001b[39m\u001b[32mIn[4]\u001b[39m\u001b[32m, line 36\u001b[39m\n\u001b[32m     33\u001b[39m     \u001b[38;5;28mprint\u001b[39m(\u001b[33m\"\u001b[39m\u001b[33mBest n_estimators (ES):\u001b[39m\u001b[33m\"\u001b[39m, (best_iter + \u001b[32m1\u001b[39m) \u001b[38;5;28;01mif\u001b[39;00m best_iter \u001b[38;5;129;01mis\u001b[39;00m \u001b[38;5;129;01mnot\u001b[39;00m \u001b[38;5;28;01mNone\u001b[39;00m \u001b[38;5;28;01melse\u001b[39;00m \u001b[33m\"\u001b[39m\u001b[33mN/A\u001b[39m\u001b[33m\"\u001b[39m)\n\u001b[32m     34\u001b[39m     params.append(grid_search.best_params_)\n\u001b[32m---> \u001b[39m\u001b[32m36\u001b[39m paramsFileContent=pd.DataFrame(\u001b[43mparams\u001b[49m\u001b[43m.\u001b[49m\u001b[43mto_dict\u001b[49m)\n\u001b[32m     37\u001b[39m paramsFileContent.to_csv(\u001b[33m\"\u001b[39m\u001b[33mparams.csv\u001b[39m\u001b[33m\"\u001b[39m, index=\u001b[38;5;28;01mFalse\u001b[39;00m)\n\u001b[32m     39\u001b[39m \u001b[38;5;28mprint\u001b[39m(params)\n",
      "\u001b[31mAttributeError\u001b[39m: 'list' object has no attribute 'to_dict'"
     ]
    }
   ],
   "source": [
    "param_grid = {\n",
    "    'max_depth': [3, 4, 5, 7, 9 ,12, 13, 14, 15],\n",
    "    'learning_rate': [0.009 ,0.01, 0.1, 0.2, 0.8],\n",
    "    'subsample': [0.5, 0.8, 0.9, 1.0],\n",
    "    'colsample_bytree': [0.3, 0.8, 0.9, 1.0]\n",
    "}\n",
    "df=dataset.copy()\n",
    "y = df.pop('Survived')\n",
    "params=[]\n",
    "\n",
    "for i in range(20):\n",
    "    data_preprocessor = TitanicPreprocessor()\n",
    "\n",
    "    prep = Pipeline([('pre-processor', TitanicPreprocessor()),('noise_remover', NoiseRemover())])\n",
    "    X_preprocessed, X_eval_preprocessed, y_all, y_eval, test_fold = generate_predefined_split(y, prep)\n",
    "\n",
    "    grid_search = GridSearchCV(\n",
    "        estimator=model,\n",
    "        param_grid=param_grid,\n",
    "        cv=PredefinedSplit(test_fold),\n",
    "        scoring='accuracy',\n",
    "        n_jobs=-1,  # Use all available cores\n",
    "        verbose=0  # Print progress\n",
    "    )\n",
    "\n",
    "    print(\"Starting grid search...\")\n",
    "    grid_search.fit(X_preprocessed, y_all,eval_set=[(X_eval_preprocessed, y_eval)],verbose=False)\n",
    "\n",
    "    best_xgb = grid_search.best_estimator_\n",
    "    best_iter = getattr(best_xgb, \"best_iteration\", None)\n",
    "    print(\"Best params:\", grid_search.best_params_)\n",
    "    print(\"Best (hold-out) score:\", grid_search.best_score_)\n",
    "    print(\"Best n_estimators (ES):\", (best_iter + 1) if best_iter is not None else \"N/A\")\n",
    "    params.append(grid_search.best_params_)\n",
    "\n",
    "paramsFileContent=pd.DataFrame(params.to_dict)\n",
    "paramsFileContent.to_csv(\"params.csv\", index=False)\n",
    "\n",
    "print(params)\n",
    "\n",
    "#[{'colsample_bytree': 0.8, 'learning_rate': 0.8, 'max_depth': 9, 'subsample': 0.5}, {'colsample_bytree': 0.8, 'learning_rate': 0.01, 'max_depth': 5, 'subsample': 0.5}]\n",
    "\n"
   ]
  }
 ],
 "metadata": {
  "kernelspec": {
   "display_name": "matenme",
   "language": "python",
   "name": "python3"
  },
  "language_info": {
   "codemirror_mode": {
    "name": "ipython",
    "version": 3
   },
   "file_extension": ".py",
   "mimetype": "text/x-python",
   "name": "python",
   "nbconvert_exporter": "python",
   "pygments_lexer": "ipython3",
   "version": "3.11.0"
  }
 },
 "nbformat": 4,
 "nbformat_minor": 2
}
