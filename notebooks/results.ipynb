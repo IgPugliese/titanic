{
 "cells": [
  {
   "cell_type": "code",
   "execution_count": 1,
   "metadata": {},
   "outputs": [],
   "source": [
    "import sys\n",
    "from pathlib import Path\n",
    "from dataclasses import dataclass, field\n",
    "project_root = Path().resolve().parent\n",
    "sys.path.append(str(project_root))\n",
    "\n",
    "from utils import load_config, load_datasets\n",
    "import pandas as pd\n",
    "import numpy as np\n",
    "import re\n",
    "import sklearn as skt\n",
    "from sklearn.model_selection import train_test_split, cross_val_score, StratifiedKFold\n",
    "from sklearn.linear_model import LogisticRegression\n",
    "from sklearn.pipeline import Pipeline\n",
    "from xgboost import XGBRegressor, XGBClassifier\n",
    "from sklearn.preprocessing import FunctionTransformer\n",
    "from sklearn.base import BaseEstimator, ClassifierMixin\n",
    "from sklearn.base import clone\n",
    "from sklearn.model_selection import GridSearchCV\n",
    "from noise_remover import NoiseRemover\n",
    "from titanic_preprocessor import TitanicPreprocessor\n",
    "from sklearn.model_selection import PredefinedSplit, GridSearchCV\n",
    "from xgboost.callback import EarlyStopping\n",
    "\n",
    "load_config()\n",
    "dataFrameTrain,dataFrameTest = load_datasets()\n",
    "\n",
    "X=dataFrameTrain.drop(columns=[\"Survived\"])\n",
    "Y=dataFrameTrain[\"Survived\"]\n",
    "\n",
    "#print(dataFrameTest)\n",
    "\n",
    "\n",
    "ids_to_predict=dataFrameTest[\"PassengerId\"]\n",
    "\n",
    "\n",
    "\n",
    "\n",
    "\n",
    "\n",
    "model= XGBClassifier(\n",
    "    objective=\"binary:logistic\",\n",
    "    eval_metric=\"logloss\",       # modela conteos\n",
    "    tree_method=\"hist\",  \n",
    "    colsample_bytree = 0.8,\n",
    "    n_estimators=181,\n",
    "    learning_rate=0.1,\n",
    "    subsample=0.5,\n",
    "    max_depth=4,\n",
    "    reg_lambda=2,            # L2 ayuda a estabilizar\n",
    "    reg_alpha=0.0,\n",
    "    enable_categorical=True,\n",
    "  \n",
    ")\n",
    "\n",
    "  \n",
    "\n",
    "data_preprocessor = TitanicPreprocessor()\n",
    "\n",
    "\n",
    "pipeline = Pipeline([('pre-processor', data_preprocessor), ('nosie remover', NoiseRemover()),('rfb', model)])"
   ]
  },
  {
   "cell_type": "code",
   "execution_count": 2,
   "metadata": {},
   "outputs": [
    {
     "name": "stdout",
     "output_type": "stream",
     "text": [
      "CV Accuracy: 0.8417 ± 0.0145\n"
     ]
    }
   ],
   "source": [
    "cv = StratifiedKFold(n_splits=5, shuffle=True, random_state=42)\n",
    "scores = cross_val_score(pipeline, X, Y, scoring=\"accuracy\", cv=cv, n_jobs=-1)\n",
    "print(f\"CV Accuracy: {scores.mean():.4f} ± {scores.std():.4f}\")\n"
   ]
  },
  {
   "cell_type": "code",
   "execution_count": 3,
   "metadata": {},
   "outputs": [],
   "source": [
    "pipeline.fit(X,Y)\n",
    "predictions_array=pipeline.predict(dataFrameTest)\n",
    "results = pd.DataFrame({'PassengerId' : ids_to_predict, 'Survived' : pd.Series(predictions_array)})\n",
    "results.to_csv(\"ignadormido2.csv\", index=False)\n"
   ]
  }
 ],
 "metadata": {
  "kernelspec": {
   "display_name": "matenme",
   "language": "python",
   "name": "python3"
  },
  "language_info": {
   "codemirror_mode": {
    "name": "ipython",
    "version": 3
   },
   "file_extension": ".py",
   "mimetype": "text/x-python",
   "name": "python",
   "nbconvert_exporter": "python",
   "pygments_lexer": "ipython3",
   "version": "3.11.0"
  }
 },
 "nbformat": 4,
 "nbformat_minor": 2
}
