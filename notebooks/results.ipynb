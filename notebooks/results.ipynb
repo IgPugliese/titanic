{
 "cells": [
  {
   "cell_type": "code",
   "execution_count": null,
   "metadata": {},
   "outputs": [],
   "source": [
    "from utils import load_config, load_datasets\n",
    "import pandas as pd\n",
    "import numpy as np\n",
    "import re\n",
    "import sklearn as skt\n",
    "from sklearn.model_selection import train_test_split, cross_val_score, StratifiedKFold\n",
    "from sklearn.linear_model import LogisticRegression\n",
    "from sklearn.pipeline import Pipeline\n",
    "from xgboost import XGBRegressor, XGBClassifier\n",
    "from sklearn.preprocessing import FunctionTransformer\n",
    "from sklearn.base import BaseEstimator, ClassifierMixin\n",
    "from sklearn.base import clone\n",
    "from sklearn.model_selection import GridSearchCV\n",
    "from noise_remover import NoiseRemover\n",
    "from titanic_preprocessor import TitanicPreprocessor\n",
    "from sklearn.model_selection import PredefinedSplit, GridSearchCV\n",
    "from xgboost.callback import EarlyStopping\n",
    "\n",
    "load_config()\n",
    "dt, df = load_datasets()\n",
    "\n",
    "\n",
    "model= XGBClassifier(\n",
    "    objective=\"binary:logistic\",\n",
    "    eval_metric=\"logloss\",       # modela conteos\n",
    "    tree_method=\"hist\",         # rápido y eficiente en CPU\n",
    "    n_estimators=5000,\n",
    "    learning_rate=0.1,\n",
    "    callbacks= [EarlyStopping(rounds=50, save_best=True)],\n",
    "    max_depth=3,\n",
    "    enable_categorical=True,\n",
    "    verbosity=0\n",
    ")\n",
    "\n",
    "param_grid = {\n",
    "    'max_depth': [7, 9 ,12, 13, 14, 15],\n",
    "    'learning_rate': [0.009 ,0.01, 0.1, 0.2, 0.8],\n",
    "    'subsample': [0.5, 0.8, 0.9, 1.0],\n",
    "    'colsample_bytree': [0.3, 0.8, 0.9, 1.0]\n",
    "}\n",
    "  \n",
    "\n",
    "y=df.pop('Survived')\n",
    "data_preprocessor = TitanicPreprocessor()\n",
    "\n",
    "\n",
    "pipeline = Pipeline([('pre-processor', data_preprocessor), ('nosie remover', NoiseRemover()),('rfb', model)])"
   ]
  },
  {
   "cell_type": "code",
   "execution_count": null,
   "metadata": {},
   "outputs": [],
   "source": [
    "\n",
    "pipeline.fit(df,y)\n",
    "\n",
    "cv_scores = cross_val_score(pipeline, df, y, cv=cv, scoring='accuracy')\n",
    "\n",
    "predictions_array=pipeline.predict(dt)\n",
    "results = pd.DataFrame({'PassengerId' : ids_to_predict, 'Survived' : pd.Series(predictions_array)})\n",
    "results.to_csv(\"submission.csv\", index=False)\n",
    "print(f\"Mean CV Precision: {cv_scores.mean():.4f} (+/- {cv_scores.std() * 2:.4f})\")\n"
   ]
  }
 ],
 "metadata": {
  "language_info": {
   "name": "python"
  }
 },
 "nbformat": 4,
 "nbformat_minor": 2
}
